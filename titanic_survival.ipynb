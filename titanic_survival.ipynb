{
  "nbformat": 4,
  "nbformat_minor": 0,
  "metadata": {
    "colab": {
      "provenance": [],
      "toc_visible": true
    },
    "kernelspec": {
      "name": "python3",
      "display_name": "Python 3"
    },
    "language_info": {
      "name": "python"
    },
    "gpuClass": "standard"
  },
  "cells": [
    {
      "cell_type": "markdown",
      "source": [
        "# Spaceship Titanic"
      ],
      "metadata": {
        "id": "Ur7Y08ghZS-X"
      }
    },
    {
      "cell_type": "markdown",
      "source": [
        "# I. Executive Summary"
      ],
      "metadata": {
        "id": "v4zO2v6oZbRg"
      }
    },
    {
      "cell_type": "markdown",
      "source": [
        "The aim of this project is to predict whether a passenger was transported to an alternate dimension during the Spaceship Titanic's collision with the spacetime anomaly.\n",
        "\n",
        "Dataset is from the following link:\n",
        "\n",
        "https://www.kaggle.com/competitions/spaceship-titanic/data\n",
        "\n",
        "The project starts by reading train and test data. We found that there were 8693 rows and 14 features provided for train data and 4277 rows and 13 features provided for test data. The train data has one target feature \"Transported\" apart from test data. Further analysis was performed for the \"Transported\" feature to check if the values are equally distributed. Train and test data are combined for the data cleaning process. The features 'PassengerId' and 'Name' doesn't impact to provide any effect on the person being transported or not, so are dropped from the dataset. The features are classified into numerical and categorical to perform analysis and check variable distributions.\n",
        "\n",
        "The following steps are performed on features to clean the dataset:\n",
        "- Locating missing values in each column\n",
        "- Replacing missing values on numerical feature data with mean and categorical feature data with mode\n",
        "- Standardization of Numerical Continuous features to bring data to a similar scale\n",
        "- The categorical features contained either boolean or non-boolean data types. Features with boolean categorical features that contain information in their ordering set were converted to integers using a label encoder, whereas columns with non-boolean categorical features were transposed using dummy variables.\n",
        "- Separation of train and test data for model fitting and prediction\n",
        "\n",
        "The train data is then split into 80% train and 20% test which will help to check how a model would perform on new data.\n",
        "\n",
        "The Sequential forward feature selection wrapper method provided by the scikit-learn library is used for the feature selection. The parameters of the Sequential forward feature selection used are accuracy and cross validation to determine the ideal number of features to keep in all the 3 models. This is a binary classification problem, so three methods are implemented for model training: Linear Discriminant Analysis, Gaussian Naive Bayes Classifier, and Logistic Regression.\n",
        "\n",
        "The Logistic Regression model combined with sequential forward feature selection performed the best out of all the classification models used to carry out this binary classification task  resulting in the best submission score of 0.78512 on Kaggle.\n",
        "\n",
        "Kaggle Score with Linear Discriminant Analysis:\n",
        "\n",
        "SCORE = 0.76128\n",
        "\n",
        "Kaggle Score with Gaussian Naive Bayes Classifier:\n",
        "\n",
        "SCORE = 0.75637\n",
        "\n",
        "\n"
      ],
      "metadata": {
        "id": "GlqlH5fWZegP"
      }
    },
    {
      "cell_type": "markdown",
      "source": [
        "## Best Kaggle Score"
      ],
      "metadata": {
        "id": "IFTcdh9KbV4G"
      }
    },
    {
      "cell_type": "markdown",
      "source": [
        "- Logistic Regression\n",
        "![image.png](data:image/png;base64,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)"
      ],
      "metadata": {
        "id": "nq1Rt9Racy7Z"
      }
    },
    {
      "cell_type": "markdown",
      "source": [
        "# II. Ethics Discussion"
      ],
      "metadata": {
        "id": "tnmqAzl3bZ-P"
      }
    },
    {
      "cell_type": "markdown",
      "source": [
        "The main objective of this Kaggle challenge raises ethical concerns due to the use of a machine learning algorithm, even though this is a fictional dataset. If colliding of the spaceship titanic with a spacetime anomaly hidden within a dust cloud problem existed, it would be wrong to use a machine learning algorithm to depict who was transported.\n",
        "\n",
        "The names of people on the ship's passengers were included in this dataset. Although this data is fictitious, in real-world scenarios, data must be anonymized to protect passengers’ security and privacy. Therefore, the Name column is removed from the final dataset as it doesn't make it relevant to include it in the final dataset.\n",
        "\n",
        "The bias is introduced during the treatment of missing values so the model will never be perfect. Most of the causes of such missing values are unknown. A variety of imputation techniques were used to fill in the gaps in almost all of the dataset's missing values. The use of machine learning to solve this spaceship titanic kaggle issue will have substantial ethical consequences because it will ultimately determine who was transported to an alternate dimension.\n",
        "\n",
        "The data is retrieved from the spaceship's damaged computer system, so it might be possible that the majority of the data files might have been lost which would have been important for the influence of whether the individual was transported or not. The dataset which we are working on might be biased or not be sufficient to solve the problem.\n",
        "\n",
        "In spite of the fact that this dataset is fictional, the models and training techniques presented are only intended for use in learning data science, and related topics, not for making predictions about whether a passenger was transported to an alternate dimension during the Spaceship Titanic's collision.\n",
        "\n",
        "\n",
        "\n",
        "\n"
      ],
      "metadata": {
        "id": "B8QoJ8EKbezG"
      }
    },
    {
      "cell_type": "markdown",
      "source": [
        "# III. Detailed Report"
      ],
      "metadata": {
        "id": "ZA7fubrGpDtQ"
      }
    },
    {
      "cell_type": "markdown",
      "source": [
        "## Import Libraries and Upload Files"
      ],
      "metadata": {
        "id": "iPqhMN7cps72"
      }
    },
    {
      "cell_type": "code",
      "source": [
        "# Import libraries\n",
        "\n",
        "import pandas as pd\n",
        "import numpy as np\n",
        "import matplotlib.pyplot as plt\n",
        "import seaborn as sns\n",
        "import warnings\n",
        "warnings.filterwarnings('ignore')\n",
        "from sklearn.preprocessing import LabelEncoder\n",
        "from sklearn.preprocessing import StandardScaler\n",
        "from sklearn.model_selection import train_test_split\n",
        "from sklearn.linear_model import LogisticRegression\n",
        "from sklearn.discriminant_analysis import LinearDiscriminantAnalysis\n",
        "from sklearn.naive_bayes import GaussianNB\n",
        "from sklearn.metrics import accuracy_score, confusion_matrix, precision_score, recall_score, roc_auc_score\n",
        "from sklearn import metrics\n",
        "from sklearn.feature_selection import SequentialFeatureSelector as SFS"
      ],
      "metadata": {
        "id": "jKh_XcdPpvSX"
      },
      "execution_count": null,
      "outputs": []
    },
    {
      "cell_type": "code",
      "source": [
        "# Upload files to notebook\n",
        "\n",
        "from google.colab import files\n",
        "uploaded = files.upload()\n",
        "\n",
        "# Note : Upload train.csv, test.csv from local directory"
      ],
      "metadata": {
        "colab": {
          "base_uri": "https://localhost:8080/",
          "height": 108
        },
        "id": "gKi2c4WMpvVv",
        "outputId": "1b542fbf-17fd-43b8-bfe7-1d8a245a0aa2"
      },
      "execution_count": null,
      "outputs": [
        {
          "output_type": "display_data",
          "data": {
            "text/plain": [
              "<IPython.core.display.HTML object>"
            ],
            "text/html": [
              "\n",
              "     <input type=\"file\" id=\"files-9f0fae69-a936-42f7-a180-4113ecfd53c6\" name=\"files[]\" multiple disabled\n",
              "        style=\"border:none\" />\n",
              "     <output id=\"result-9f0fae69-a936-42f7-a180-4113ecfd53c6\">\n",
              "      Upload widget is only available when the cell has been executed in the\n",
              "      current browser session. Please rerun this cell to enable.\n",
              "      </output>\n",
              "      <script>// Copyright 2017 Google LLC\n",
              "//\n",
              "// Licensed under the Apache License, Version 2.0 (the \"License\");\n",
              "// you may not use this file except in compliance with the License.\n",
              "// You may obtain a copy of the License at\n",
              "//\n",
              "//      http://www.apache.org/licenses/LICENSE-2.0\n",
              "//\n",
              "// Unless required by applicable law or agreed to in writing, software\n",
              "// distributed under the License is distributed on an \"AS IS\" BASIS,\n",
              "// WITHOUT WARRANTIES OR CONDITIONS OF ANY KIND, either express or implied.\n",
              "// See the License for the specific language governing permissions and\n",
              "// limitations under the License.\n",
              "\n",
              "/**\n",
              " * @fileoverview Helpers for google.colab Python module.\n",
              " */\n",
              "(function(scope) {\n",
              "function span(text, styleAttributes = {}) {\n",
              "  const element = document.createElement('span');\n",
              "  element.textContent = text;\n",
              "  for (const key of Object.keys(styleAttributes)) {\n",
              "    element.style[key] = styleAttributes[key];\n",
              "  }\n",
              "  return element;\n",
              "}\n",
              "\n",
              "// Max number of bytes which will be uploaded at a time.\n",
              "const MAX_PAYLOAD_SIZE = 100 * 1024;\n",
              "\n",
              "function _uploadFiles(inputId, outputId) {\n",
              "  const steps = uploadFilesStep(inputId, outputId);\n",
              "  const outputElement = document.getElementById(outputId);\n",
              "  // Cache steps on the outputElement to make it available for the next call\n",
              "  // to uploadFilesContinue from Python.\n",
              "  outputElement.steps = steps;\n",
              "\n",
              "  return _uploadFilesContinue(outputId);\n",
              "}\n",
              "\n",
              "// This is roughly an async generator (not supported in the browser yet),\n",
              "// where there are multiple asynchronous steps and the Python side is going\n",
              "// to poll for completion of each step.\n",
              "// This uses a Promise to block the python side on completion of each step,\n",
              "// then passes the result of the previous step as the input to the next step.\n",
              "function _uploadFilesContinue(outputId) {\n",
              "  const outputElement = document.getElementById(outputId);\n",
              "  const steps = outputElement.steps;\n",
              "\n",
              "  const next = steps.next(outputElement.lastPromiseValue);\n",
              "  return Promise.resolve(next.value.promise).then((value) => {\n",
              "    // Cache the last promise value to make it available to the next\n",
              "    // step of the generator.\n",
              "    outputElement.lastPromiseValue = value;\n",
              "    return next.value.response;\n",
              "  });\n",
              "}\n",
              "\n",
              "/**\n",
              " * Generator function which is called between each async step of the upload\n",
              " * process.\n",
              " * @param {string} inputId Element ID of the input file picker element.\n",
              " * @param {string} outputId Element ID of the output display.\n",
              " * @return {!Iterable<!Object>} Iterable of next steps.\n",
              " */\n",
              "function* uploadFilesStep(inputId, outputId) {\n",
              "  const inputElement = document.getElementById(inputId);\n",
              "  inputElement.disabled = false;\n",
              "\n",
              "  const outputElement = document.getElementById(outputId);\n",
              "  outputElement.innerHTML = '';\n",
              "\n",
              "  const pickedPromise = new Promise((resolve) => {\n",
              "    inputElement.addEventListener('change', (e) => {\n",
              "      resolve(e.target.files);\n",
              "    });\n",
              "  });\n",
              "\n",
              "  const cancel = document.createElement('button');\n",
              "  inputElement.parentElement.appendChild(cancel);\n",
              "  cancel.textContent = 'Cancel upload';\n",
              "  const cancelPromise = new Promise((resolve) => {\n",
              "    cancel.onclick = () => {\n",
              "      resolve(null);\n",
              "    };\n",
              "  });\n",
              "\n",
              "  // Wait for the user to pick the files.\n",
              "  const files = yield {\n",
              "    promise: Promise.race([pickedPromise, cancelPromise]),\n",
              "    response: {\n",
              "      action: 'starting',\n",
              "    }\n",
              "  };\n",
              "\n",
              "  cancel.remove();\n",
              "\n",
              "  // Disable the input element since further picks are not allowed.\n",
              "  inputElement.disabled = true;\n",
              "\n",
              "  if (!files) {\n",
              "    return {\n",
              "      response: {\n",
              "        action: 'complete',\n",
              "      }\n",
              "    };\n",
              "  }\n",
              "\n",
              "  for (const file of files) {\n",
              "    const li = document.createElement('li');\n",
              "    li.append(span(file.name, {fontWeight: 'bold'}));\n",
              "    li.append(span(\n",
              "        `(${file.type || 'n/a'}) - ${file.size} bytes, ` +\n",
              "        `last modified: ${\n",
              "            file.lastModifiedDate ? file.lastModifiedDate.toLocaleDateString() :\n",
              "                                    'n/a'} - `));\n",
              "    const percent = span('0% done');\n",
              "    li.appendChild(percent);\n",
              "\n",
              "    outputElement.appendChild(li);\n",
              "\n",
              "    const fileDataPromise = new Promise((resolve) => {\n",
              "      const reader = new FileReader();\n",
              "      reader.onload = (e) => {\n",
              "        resolve(e.target.result);\n",
              "      };\n",
              "      reader.readAsArrayBuffer(file);\n",
              "    });\n",
              "    // Wait for the data to be ready.\n",
              "    let fileData = yield {\n",
              "      promise: fileDataPromise,\n",
              "      response: {\n",
              "        action: 'continue',\n",
              "      }\n",
              "    };\n",
              "\n",
              "    // Use a chunked sending to avoid message size limits. See b/62115660.\n",
              "    let position = 0;\n",
              "    do {\n",
              "      const length = Math.min(fileData.byteLength - position, MAX_PAYLOAD_SIZE);\n",
              "      const chunk = new Uint8Array(fileData, position, length);\n",
              "      position += length;\n",
              "\n",
              "      const base64 = btoa(String.fromCharCode.apply(null, chunk));\n",
              "      yield {\n",
              "        response: {\n",
              "          action: 'append',\n",
              "          file: file.name,\n",
              "          data: base64,\n",
              "        },\n",
              "      };\n",
              "\n",
              "      let percentDone = fileData.byteLength === 0 ?\n",
              "          100 :\n",
              "          Math.round((position / fileData.byteLength) * 100);\n",
              "      percent.textContent = `${percentDone}% done`;\n",
              "\n",
              "    } while (position < fileData.byteLength);\n",
              "  }\n",
              "\n",
              "  // All done.\n",
              "  yield {\n",
              "    response: {\n",
              "      action: 'complete',\n",
              "    }\n",
              "  };\n",
              "}\n",
              "\n",
              "scope.google = scope.google || {};\n",
              "scope.google.colab = scope.google.colab || {};\n",
              "scope.google.colab._files = {\n",
              "  _uploadFiles,\n",
              "  _uploadFilesContinue,\n",
              "};\n",
              "})(self);\n",
              "</script> "
            ]
          },
          "metadata": {}
        },
        {
          "output_type": "stream",
          "name": "stdout",
          "text": [
            "Saving test.csv to test.csv\n",
            "Saving train.csv to train.csv\n"
          ]
        }
      ]
    },
    {
      "cell_type": "markdown",
      "source": [
        "## Loading Dataset"
      ],
      "metadata": {
        "id": "5QKmmzbEqiKf"
      }
    },
    {
      "cell_type": "markdown",
      "source": [
        "The analysis begins by loading the test and train data, after which the target feature \"Transported\" in the training data is checked for class balance for further analysis. Dropping the feature \"Transported\" from train data and storing in the variable Y_train_data. After that, combining of train and test data is done.\n",
        "We found that there are 8693 instances of train data and 4277 instances of test data."
      ],
      "metadata": {
        "id": "h_acHxSl6gYk"
      }
    },
    {
      "cell_type": "code",
      "source": [
        "# Read .csv files for train and test data\n",
        "\n",
        "train_data = pd.read_csv('train.csv')\n",
        "test_data = pd.read_csv('test.csv')\n",
        "\n",
        "print(f\"The (rows, features) of Train data are {train_data.shape}, & (rows, features) of Test data are {test_data.shape}\")"
      ],
      "metadata": {
        "colab": {
          "base_uri": "https://localhost:8080/"
        },
        "id": "KJPfGLOGnFtO",
        "outputId": "9bae9fe2-ad0e-4629-e7d5-9e1d7d8411b3"
      },
      "execution_count": null,
      "outputs": [
        {
          "output_type": "stream",
          "name": "stdout",
          "text": [
            "The (rows, features) of Train data are (8693, 14), & (rows, features) of Test data are (4277, 13)\n"
          ]
        }
      ]
    },
    {
      "cell_type": "markdown",
      "source": [
        "Separate train dataset is being copied and saved into \"train_separate\" variable for analysis during categorical features with target variable."
      ],
      "metadata": {
        "id": "zHs6_DvMLr5A"
      }
    },
    {
      "cell_type": "code",
      "source": [
        "# Copy train data\n",
        "id = test_data[\"PassengerId\"]\n",
        "train_separate = train_data.copy()"
      ],
      "metadata": {
        "id": "-sDvV8b_Lpi3"
      },
      "execution_count": null,
      "outputs": []
    },
    {
      "cell_type": "markdown",
      "source": [
        "The following pie plot for Transported feature in the training dataset indicates that the calsses are balanced with respect to the target feature \"Transported\""
      ],
      "metadata": {
        "id": "DtwL-2_V5Y8z"
      }
    },
    {
      "cell_type": "code",
      "source": [
        "target = train_data.Transported.value_counts()\n",
        "labels, sizes = target.index, target.to_list()\n",
        "explode = (0.1, 0)\n",
        "\n",
        "plt.figure(figsize=(8, 5))\n",
        "plt.pie(sizes, explode=explode, labels=labels,\n",
        "        autopct='%1.1f%%', shadow=True, startangle=90)\n",
        "plt.axis('equal')\n",
        "plt.title('Percentage of classes in the target variable')\n",
        "plt.show()"
      ],
      "metadata": {
        "colab": {
          "base_uri": "https://localhost:8080/",
          "height": 319
        },
        "id": "xPqeetZgBtrW",
        "outputId": "570e92cc-b87d-43ad-8c30-a6afa23ce8f1"
      },
      "execution_count": null,
      "outputs": [
        {
          "output_type": "display_data",
          "data": {
            "text/plain": [
              "<Figure size 576x360 with 1 Axes>"
            ],
            "image/png": "[encoded data removed]"
          },
          "metadata": {}
        }
      ]
    },
    {
      "cell_type": "code",
      "source": [
        "# Dropping transported column from train_data and storing in Y_train data variable\n",
        "\n",
        "Y_train_data = train_data['Transported']\n",
        "train_data.drop('Transported', axis=1, inplace=True)"
      ],
      "metadata": {
        "id": "4JaijGWDwdyT"
      },
      "execution_count": null,
      "outputs": []
    },
    {
      "cell_type": "code",
      "source": [
        "# Combine train and test data\n",
        "\n",
        "data = pd.concat([train_data, test_data], axis=0, ignore_index=True)\n",
        "\n",
        "print(\"The table showing first five rows and last five rows of dataset \\\n",
        "to ensure that dataset is properly combined:\")\n",
        "data"
      ],
      "metadata": {
        "colab": {
          "base_uri": "https://localhost:8080/",
          "height": 537
        },
        "id": "qPmfsn6h0SBs",
        "outputId": "95572cd8-7a78-4d87-dfd3-12bb7dffb3c7"
      },
      "execution_count": null,
      "outputs": [
        {
          "output_type": "stream",
          "name": "stdout",
          "text": [
            "The table showing first five rows and last five rows of dataset to ensure that dataset is properly combined:\n"
          ]
        },
        {
          "output_type": "execute_result",
          "data": {
            "text/plain": [
              "      PassengerId HomePlanet CryoSleep     Cabin    Destination   Age    VIP  \\\n",
              "0         0001_01     Europa     False     B/0/P    TRAPPIST-1e  39.0  False   \n",
              "1         0002_01      Earth     False     F/0/S    TRAPPIST-1e  24.0  False   \n",
              "2         0003_01     Europa     False     A/0/S    TRAPPIST-1e  58.0   True   \n",
              "3         0003_02     Europa     False     A/0/S    TRAPPIST-1e  33.0  False   \n",
              "4         0004_01      Earth     False     F/1/S    TRAPPIST-1e  16.0  False   \n",
              "...           ...        ...       ...       ...            ...   ...    ...   \n",
              "12965     9266_02      Earth      True  G/1496/S    TRAPPIST-1e  34.0  False   \n",
              "12966     9269_01      Earth     False       NaN    TRAPPIST-1e  42.0  False   \n",
              "12967     9271_01       Mars      True   D/296/P    55 Cancri e   NaN  False   \n",
              "12968     9273_01     Europa     False   D/297/P            NaN   NaN  False   \n",
              "12969     9277_01      Earth      True  G/1498/S  PSO J318.5-22  43.0  False   \n",
              "\n",
              "       RoomService  FoodCourt  ShoppingMall     Spa  VRDeck               Name  \n",
              "0              0.0        0.0           0.0     0.0     0.0    Maham Ofracculy  \n",
              "1            109.0        9.0          25.0   549.0    44.0       Juanna Vines  \n",
              "2             43.0     3576.0           0.0  6715.0    49.0      Altark Susent  \n",
              "3              0.0     1283.0         371.0  3329.0   193.0       Solam Susent  \n",
              "4            303.0       70.0         151.0   565.0     2.0  Willy Santantines  \n",
              "...            ...        ...           ...     ...     ...                ...  \n",
              "12965          0.0        0.0           0.0     0.0     0.0        Jeron Peter  \n",
              "12966          0.0      847.0          17.0    10.0   144.0      Matty Scheron  \n",
              "12967          0.0        0.0           0.0     0.0     0.0        Jayrin Pore  \n",
              "12968          0.0     2680.0           0.0     0.0   523.0     Kitakan Conale  \n",
              "12969          0.0        0.0           0.0     0.0     0.0   Lilace Leonzaley  \n",
              "\n",
              "[12970 rows x 13 columns]"
            ],
            "text/html": [
              "\n",
              "  <div id=\"df-650593a0-0cfc-46d7-942e-dee68d34ae99\">\n",
              "    <div class=\"colab-df-container\">\n",
              "      <div>\n",
              "<style scoped>\n",
              "    .dataframe tbody tr th:only-of-type {\n",
              "        vertical-align: middle;\n",
              "    }\n",
              "\n",
              "    .dataframe tbody tr th {\n",
              "        vertical-align: top;\n",
              "    }\n",
              "\n",
              "    .dataframe thead th {\n",
              "        text-align: right;\n",
              "    }\n",
              "</style>\n",
              "<table border=\"1\" class=\"dataframe\">\n",
              "  <thead>\n",
              "    <tr style=\"text-align: right;\">\n",
              "      <th></th>\n",
              "      <th>PassengerId</th>\n",
              "      <th>HomePlanet</th>\n",
              "      <th>CryoSleep</th>\n",
              "      <th>Cabin</th>\n",
              "      <th>Destination</th>\n",
              "      <th>Age</th>\n",
              "      <th>VIP</th>\n",
              "      <th>RoomService</th>\n",
              "      <th>FoodCourt</th>\n",
              "      <th>ShoppingMall</th>\n",
              "      <th>Spa</th>\n",
              "      <th>VRDeck</th>\n",
              "      <th>Name</th>\n",
              "    </tr>\n",
              "  </thead>\n",
              "  <tbody>\n",
              "    <tr>\n",
              "      <th>0</th>\n",
              "      <td>0001_01</td>\n",
              "      <td>Europa</td>\n",
              "      <td>False</td>\n",
              "      <td>B/0/P</td>\n",
              "      <td>TRAPPIST-1e</td>\n",
              "      <td>39.0</td>\n",
              "      <td>False</td>\n",
              "      <td>0.0</td>\n",
              "      <td>0.0</td>\n",
              "      <td>0.0</td>\n",
              "      <td>0.0</td>\n",
              "      <td>0.0</td>\n",
              "      <td>Maham Ofracculy</td>\n",
              "    </tr>\n",
              "    <tr>\n",
              "      <th>1</th>\n",
              "      <td>0002_01</td>\n",
              "      <td>Earth</td>\n",
              "      <td>False</td>\n",
              "      <td>F/0/S</td>\n",
              "      <td>TRAPPIST-1e</td>\n",
              "      <td>24.0</td>\n",
              "      <td>False</td>\n",
              "      <td>109.0</td>\n",
              "      <td>9.0</td>\n",
              "      <td>25.0</td>\n",
              "      <td>549.0</td>\n",
              "      <td>44.0</td>\n",
              "      <td>Juanna Vines</td>\n",
              "    </tr>\n",
              "    <tr>\n",
              "      <th>2</th>\n",
              "      <td>0003_01</td>\n",
              "      <td>Europa</td>\n",
              "      <td>False</td>\n",
              "      <td>A/0/S</td>\n",
              "      <td>TRAPPIST-1e</td>\n",
              "      <td>58.0</td>\n",
              "      <td>True</td>\n",
              "      <td>43.0</td>\n",
              "      <td>3576.0</td>\n",
              "      <td>0.0</td>\n",
              "      <td>6715.0</td>\n",
              "      <td>49.0</td>\n",
              "      <td>Altark Susent</td>\n",
              "    </tr>\n",
              "    <tr>\n",
              "      <th>3</th>\n",
              "      <td>0003_02</td>\n",
              "      <td>Europa</td>\n",
              "      <td>False</td>\n",
              "      <td>A/0/S</td>\n",
              "      <td>TRAPPIST-1e</td>\n",
              "      <td>33.0</td>\n",
              "      <td>False</td>\n",
              "      <td>0.0</td>\n",
              "      <td>1283.0</td>\n",
              "      <td>371.0</td>\n",
              "      <td>3329.0</td>\n",
              "      <td>193.0</td>\n",
              "      <td>Solam Susent</td>\n",
              "    </tr>\n",
              "    <tr>\n",
              "      <th>4</th>\n",
              "      <td>0004_01</td>\n",
              "      <td>Earth</td>\n",
              "      <td>False</td>\n",
              "      <td>F/1/S</td>\n",
              "      <td>TRAPPIST-1e</td>\n",
              "      <td>16.0</td>\n",
              "      <td>False</td>\n",
              "      <td>303.0</td>\n",
              "      <td>70.0</td>\n",
              "      <td>151.0</td>\n",
              "      <td>565.0</td>\n",
              "      <td>2.0</td>\n",
              "      <td>Willy Santantines</td>\n",
              "    </tr>\n",
              "    <tr>\n",
              "      <th>...</th>\n",
              "      <td>...</td>\n",
              "      <td>...</td>\n",
              "      <td>...</td>\n",
              "      <td>...</td>\n",
              "      <td>...</td>\n",
              "      <td>...</td>\n",
              "      <td>...</td>\n",
              "      <td>...</td>\n",
              "      <td>...</td>\n",
              "      <td>...</td>\n",
              "      <td>...</td>\n",
              "      <td>...</td>\n",
              "      <td>...</td>\n",
              "    </tr>\n",
              "    <tr>\n",
              "      <th>12965</th>\n",
              "      <td>9266_02</td>\n",
              "      <td>Earth</td>\n",
              "      <td>True</td>\n",
              "      <td>G/1496/S</td>\n",
              "      <td>TRAPPIST-1e</td>\n",
              "      <td>34.0</td>\n",
              "      <td>False</td>\n",
              "      <td>0.0</td>\n",
              "      <td>0.0</td>\n",
              "      <td>0.0</td>\n",
              "      <td>0.0</td>\n",
              "      <td>0.0</td>\n",
              "      <td>Jeron Peter</td>\n",
              "    </tr>\n",
              "    <tr>\n",
              "      <th>12966</th>\n",
              "      <td>9269_01</td>\n",
              "      <td>Earth</td>\n",
              "      <td>False</td>\n",
              "      <td>NaN</td>\n",
              "      <td>TRAPPIST-1e</td>\n",
              "      <td>42.0</td>\n",
              "      <td>False</td>\n",
              "      <td>0.0</td>\n",
              "      <td>847.0</td>\n",
              "      <td>17.0</td>\n",
              "      <td>10.0</td>\n",
              "      <td>144.0</td>\n",
              "      <td>Matty Scheron</td>\n",
              "    </tr>\n",
              "    <tr>\n",
              "      <th>12967</th>\n",
              "      <td>9271_01</td>\n",
              "      <td>Mars</td>\n",
              "      <td>True</td>\n",
              "      <td>D/296/P</td>\n",
              "      <td>55 Cancri e</td>\n",
              "      <td>NaN</td>\n",
              "      <td>False</td>\n",
              "      <td>0.0</td>\n",
              "      <td>0.0</td>\n",
              "      <td>0.0</td>\n",
              "      <td>0.0</td>\n",
              "      <td>0.0</td>\n",
              "      <td>Jayrin Pore</td>\n",
              "    </tr>\n",
              "    <tr>\n",
              "      <th>12968</th>\n",
              "      <td>9273_01</td>\n",
              "      <td>Europa</td>\n",
              "      <td>False</td>\n",
              "      <td>D/297/P</td>\n",
              "      <td>NaN</td>\n",
              "      <td>NaN</td>\n",
              "      <td>False</td>\n",
              "      <td>0.0</td>\n",
              "      <td>2680.0</td>\n",
              "      <td>0.0</td>\n",
              "      <td>0.0</td>\n",
              "      <td>523.0</td>\n",
              "      <td>Kitakan Conale</td>\n",
              "    </tr>\n",
              "    <tr>\n",
              "      <th>12969</th>\n",
              "      <td>9277_01</td>\n",
              "      <td>Earth</td>\n",
              "      <td>True</td>\n",
              "      <td>G/1498/S</td>\n",
              "      <td>PSO J318.5-22</td>\n",
              "      <td>43.0</td>\n",
              "      <td>False</td>\n",
              "      <td>0.0</td>\n",
              "      <td>0.0</td>\n",
              "      <td>0.0</td>\n",
              "      <td>0.0</td>\n",
              "      <td>0.0</td>\n",
              "      <td>Lilace Leonzaley</td>\n",
              "    </tr>\n",
              "  </tbody>\n",
              "</table>\n",
              "<p>12970 rows × 13 columns</p>\n",
              "</div>\n",
              "      <button class=\"colab-df-convert\" onclick=\"convertToInteractive('df-650593a0-0cfc-46d7-942e-dee68d34ae99')\"\n",
              "              title=\"Convert this dataframe to an interactive table.\"\n",
              "              style=\"display:none;\">\n",
              "        \n",
              "  <svg xmlns=\"http://www.w3.org/2000/svg\" height=\"24px\"viewBox=\"0 0 24 24\"\n",
              "       width=\"24px\">\n",
              "    <path d=\"M0 0h24v24H0V0z\" fill=\"none\"/>\n",
              "    <path d=\"M18.56 5.44l.94 2.06.94-2.06 2.06-.94-2.06-.94-.94-2.06-.94 2.06-2.06.94zm-11 1L8.5 8.5l.94-2.06 2.06-.94-2.06-.94L8.5 2.5l-.94 2.06-2.06.94zm10 10l.94 2.06.94-2.06 2.06-.94-2.06-.94-.94-2.06-.94 2.06-2.06.94z\"/><path d=\"M17.41 7.96l-1.37-1.37c-.4-.4-.92-.59-1.43-.59-.52 0-1.04.2-1.43.59L10.3 9.45l-7.72 7.72c-.78.78-.78 2.05 0 2.83L4 21.41c.39.39.9.59 1.41.59.51 0 1.02-.2 1.41-.59l7.78-7.78 2.81-2.81c.8-.78.8-2.07 0-2.86zM5.41 20L4 18.59l7.72-7.72 1.47 1.35L5.41 20z\"/>\n",
              "  </svg>\n",
              "      </button>\n",
              "      \n",
              "  <style>\n",
              "    .colab-df-container {\n",
              "      display:flex;\n",
              "      flex-wrap:wrap;\n",
              "      gap: 12px;\n",
              "    }\n",
              "\n",
              "    .colab-df-convert {\n",
              "      background-color: #E8F0FE;\n",
              "      border: none;\n",
              "      border-radius: 50%;\n",
              "      cursor: pointer;\n",
              "      display: none;\n",
              "      fill: #1967D2;\n",
              "      height: 32px;\n",
              "      padding: 0 0 0 0;\n",
              "      width: 32px;\n",
              "    }\n",
              "\n",
              "    .colab-df-convert:hover {\n",
              "      background-color: #E2EBFA;\n",
              "      box-shadow: 0px 1px 2px rgba(60, 64, 67, 0.3), 0px 1px 3px 1px rgba(60, 64, 67, 0.15);\n",
              "      fill: #174EA6;\n",
              "    }\n",
              "\n",
              "    [theme=dark] .colab-df-convert {\n",
              "      background-color: #3B4455;\n",
              "      fill: #D2E3FC;\n",
              "    }\n",
              "\n",
              "    [theme=dark] .colab-df-convert:hover {\n",
              "      background-color: #434B5C;\n",
              "      box-shadow: 0px 1px 3px 1px rgba(0, 0, 0, 0.15);\n",
              "      filter: drop-shadow(0px 1px 2px rgba(0, 0, 0, 0.3));\n",
              "      fill: #FFFFFF;\n",
              "    }\n",
              "  </style>\n",
              "\n",
              "      <script>\n",
              "        const buttonEl =\n",
              "          document.querySelector('#df-650593a0-0cfc-46d7-942e-dee68d34ae99 button.colab-df-convert');\n",
              "        buttonEl.style.display =\n",
              "          google.colab.kernel.accessAllowed ? 'block' : 'none';\n",
              "\n",
              "        async function convertToInteractive(key) {\n",
              "          const element = document.querySelector('#df-650593a0-0cfc-46d7-942e-dee68d34ae99');\n",
              "          const dataTable =\n",
              "            await google.colab.kernel.invokeFunction('convertToInteractive',\n",
              "                                                     [key], {});\n",
              "          if (!dataTable) return;\n",
              "\n",
              "          const docLinkHtml = 'Like what you see? Visit the ' +\n",
              "            '<a target=\"_blank\" href=https://colab.research.google.com/notebooks/data_table.ipynb>data table notebook</a>'\n",
              "            + ' to learn more about interactive tables.';\n",
              "          element.innerHTML = '';\n",
              "          dataTable['output_type'] = 'display_data';\n",
              "          await google.colab.output.renderOutput(dataTable, element);\n",
              "          const docLink = document.createElement('div');\n",
              "          docLink.innerHTML = docLinkHtml;\n",
              "          element.appendChild(docLink);\n",
              "        }\n",
              "      </script>\n",
              "    </div>\n",
              "  </div>\n",
              "  "
            ]
          },
          "metadata": {},
          "execution_count": 7
        }
      ]
    },
    {
      "cell_type": "markdown",
      "source": [
        "## Explore Data"
      ],
      "metadata": {
        "id": "MwtLYfLxqkef"
      }
    },
    {
      "cell_type": "markdown",
      "source": [
        "Observing the dataset, the features 'PassengerId' and 'Name' doesn't seem to provide any effect to the person being transported or not. So, both the features are dropped."
      ],
      "metadata": {
        "id": "6EcPh_-JOHYV"
      }
    },
    {
      "cell_type": "code",
      "source": [
        "# Dropping features \"PassengerId\" and \"Name\"\n",
        "\n",
        "data = data.drop(['PassengerId', 'Name'], axis =1)\n",
        "print(\"Checking the head of dataset to verify the features \\\"PassengerId\\\" and \\\"Name\\\" are dropped: \")\n",
        "data.head()"
      ],
      "metadata": {
        "colab": {
          "base_uri": "https://localhost:8080/",
          "height": 223
        },
        "id": "B0uhS4NiPPAc",
        "outputId": "52a4361e-0528-4478-d0f1-dacf3f75f9ff"
      },
      "execution_count": null,
      "outputs": [
        {
          "output_type": "stream",
          "name": "stdout",
          "text": [
            "Checking the head of dataset to verify the features \"PassengerId\" and \"Name\" are dropped: \n"
          ]
        },
        {
          "output_type": "execute_result",
          "data": {
            "text/plain": [
              "  HomePlanet CryoSleep  Cabin  Destination   Age    VIP  RoomService  \\\n",
              "0     Europa     False  B/0/P  TRAPPIST-1e  39.0  False          0.0   \n",
              "1      Earth     False  F/0/S  TRAPPIST-1e  24.0  False        109.0   \n",
              "2     Europa     False  A/0/S  TRAPPIST-1e  58.0   True         43.0   \n",
              "3     Europa     False  A/0/S  TRAPPIST-1e  33.0  False          0.0   \n",
              "4      Earth     False  F/1/S  TRAPPIST-1e  16.0  False        303.0   \n",
              "\n",
              "   FoodCourt  ShoppingMall     Spa  VRDeck  \n",
              "0        0.0           0.0     0.0     0.0  \n",
              "1        9.0          25.0   549.0    44.0  \n",
              "2     3576.0           0.0  6715.0    49.0  \n",
              "3     1283.0         371.0  3329.0   193.0  \n",
              "4       70.0         151.0   565.0     2.0  "
            ],
            "text/html": [
              "\n",
              "  <div id=\"df-9706f8dd-8962-41e6-8e4c-14929829717e\">\n",
              "    <div class=\"colab-df-container\">\n",
              "      <div>\n",
              "<style scoped>\n",
              "    .dataframe tbody tr th:only-of-type {\n",
              "        vertical-align: middle;\n",
              "    }\n",
              "\n",
              "    .dataframe tbody tr th {\n",
              "        vertical-align: top;\n",
              "    }\n",
              "\n",
              "    .dataframe thead th {\n",
              "        text-align: right;\n",
              "    }\n",
              "</style>\n",
              "<table border=\"1\" class=\"dataframe\">\n",
              "  <thead>\n",
              "    <tr style=\"text-align: right;\">\n",
              "      <th></th>\n",
              "      <th>HomePlanet</th>\n",
              "      <th>CryoSleep</th>\n",
              "      <th>Cabin</th>\n",
              "      <th>Destination</th>\n",
              "      <th>Age</th>\n",
              "      <th>VIP</th>\n",
              "      <th>RoomService</th>\n",
              "      <th>FoodCourt</th>\n",
              "      <th>ShoppingMall</th>\n",
              "      <th>Spa</th>\n",
              "      <th>VRDeck</th>\n",
              "    </tr>\n",
              "  </thead>\n",
              "  <tbody>\n",
              "    <tr>\n",
              "      <th>0</th>\n",
              "      <td>Europa</td>\n",
              "      <td>False</td>\n",
              "      <td>B/0/P</td>\n",
              "      <td>TRAPPIST-1e</td>\n",
              "      <td>39.0</td>\n",
              "      <td>False</td>\n",
              "      <td>0.0</td>\n",
              "      <td>0.0</td>\n",
              "      <td>0.0</td>\n",
              "      <td>0.0</td>\n",
              "      <td>0.0</td>\n",
              "    </tr>\n",
              "    <tr>\n",
              "      <th>1</th>\n",
              "      <td>Earth</td>\n",
              "      <td>False</td>\n",
              "      <td>F/0/S</td>\n",
              "      <td>TRAPPIST-1e</td>\n",
              "      <td>24.0</td>\n",
              "      <td>False</td>\n",
              "      <td>109.0</td>\n",
              "      <td>9.0</td>\n",
              "      <td>25.0</td>\n",
              "      <td>549.0</td>\n",
              "      <td>44.0</td>\n",
              "    </tr>\n",
              "    <tr>\n",
              "      <th>2</th>\n",
              "      <td>Europa</td>\n",
              "      <td>False</td>\n",
              "      <td>A/0/S</td>\n",
              "      <td>TRAPPIST-1e</td>\n",
              "      <td>58.0</td>\n",
              "      <td>True</td>\n",
              "      <td>43.0</td>\n",
              "      <td>3576.0</td>\n",
              "      <td>0.0</td>\n",
              "      <td>6715.0</td>\n",
              "      <td>49.0</td>\n",
              "    </tr>\n",
              "    <tr>\n",
              "      <th>3</th>\n",
              "      <td>Europa</td>\n",
              "      <td>False</td>\n",
              "      <td>A/0/S</td>\n",
              "      <td>TRAPPIST-1e</td>\n",
              "      <td>33.0</td>\n",
              "      <td>False</td>\n",
              "      <td>0.0</td>\n",
              "      <td>1283.0</td>\n",
              "      <td>371.0</td>\n",
              "      <td>3329.0</td>\n",
              "      <td>193.0</td>\n",
              "    </tr>\n",
              "    <tr>\n",
              "      <th>4</th>\n",
              "      <td>Earth</td>\n",
              "      <td>False</td>\n",
              "      <td>F/1/S</td>\n",
              "      <td>TRAPPIST-1e</td>\n",
              "      <td>16.0</td>\n",
              "      <td>False</td>\n",
              "      <td>303.0</td>\n",
              "      <td>70.0</td>\n",
              "      <td>151.0</td>\n",
              "      <td>565.0</td>\n",
              "      <td>2.0</td>\n",
              "    </tr>\n",
              "  </tbody>\n",
              "</table>\n",
              "</div>\n",
              "      <button class=\"colab-df-convert\" onclick=\"convertToInteractive('df-9706f8dd-8962-41e6-8e4c-14929829717e')\"\n",
              "              title=\"Convert this dataframe to an interactive table.\"\n",
              "              style=\"display:none;\">\n",
              "        \n",
              "  <svg xmlns=\"http://www.w3.org/2000/svg\" height=\"24px\"viewBox=\"0 0 24 24\"\n",
              "       width=\"24px\">\n",
              "    <path d=\"M0 0h24v24H0V0z\" fill=\"none\"/>\n",
              "    <path d=\"M18.56 5.44l.94 2.06.94-2.06 2.06-.94-2.06-.94-.94-2.06-.94 2.06-2.06.94zm-11 1L8.5 8.5l.94-2.06 2.06-.94-2.06-.94L8.5 2.5l-.94 2.06-2.06.94zm10 10l.94 2.06.94-2.06 2.06-.94-2.06-.94-.94-2.06-.94 2.06-2.06.94z\"/><path d=\"M17.41 7.96l-1.37-1.37c-.4-.4-.92-.59-1.43-.59-.52 0-1.04.2-1.43.59L10.3 9.45l-7.72 7.72c-.78.78-.78 2.05 0 2.83L4 21.41c.39.39.9.59 1.41.59.51 0 1.02-.2 1.41-.59l7.78-7.78 2.81-2.81c.8-.78.8-2.07 0-2.86zM5.41 20L4 18.59l7.72-7.72 1.47 1.35L5.41 20z\"/>\n",
              "  </svg>\n",
              "      </button>\n",
              "      \n",
              "  <style>\n",
              "    .colab-df-container {\n",
              "      display:flex;\n",
              "      flex-wrap:wrap;\n",
              "      gap: 12px;\n",
              "    }\n",
              "\n",
              "    .colab-df-convert {\n",
              "      background-color: #E8F0FE;\n",
              "      border: none;\n",
              "      border-radius: 50%;\n",
              "      cursor: pointer;\n",
              "      display: none;\n",
              "      fill: #1967D2;\n",
              "      height: 32px;\n",
              "      padding: 0 0 0 0;\n",
              "      width: 32px;\n",
              "    }\n",
              "\n",
              "    .colab-df-convert:hover {\n",
              "      background-color: #E2EBFA;\n",
              "      box-shadow: 0px 1px 2px rgba(60, 64, 67, 0.3), 0px 1px 3px 1px rgba(60, 64, 67, 0.15);\n",
              "      fill: #174EA6;\n",
              "    }\n",
              "\n",
              "    [theme=dark] .colab-df-convert {\n",
              "      background-color: #3B4455;\n",
              "      fill: #D2E3FC;\n",
              "    }\n",
              "\n",
              "    [theme=dark] .colab-df-convert:hover {\n",
              "      background-color: #434B5C;\n",
              "      box-shadow: 0px 1px 3px 1px rgba(0, 0, 0, 0.15);\n",
              "      filter: drop-shadow(0px 1px 2px rgba(0, 0, 0, 0.3));\n",
              "      fill: #FFFFFF;\n",
              "    }\n",
              "  </style>\n",
              "\n",
              "      <script>\n",
              "        const buttonEl =\n",
              "          document.querySelector('#df-9706f8dd-8962-41e6-8e4c-14929829717e button.colab-df-convert');\n",
              "        buttonEl.style.display =\n",
              "          google.colab.kernel.accessAllowed ? 'block' : 'none';\n",
              "\n",
              "        async function convertToInteractive(key) {\n",
              "          const element = document.querySelector('#df-9706f8dd-8962-41e6-8e4c-14929829717e');\n",
              "          const dataTable =\n",
              "            await google.colab.kernel.invokeFunction('convertToInteractive',\n",
              "                                                     [key], {});\n",
              "          if (!dataTable) return;\n",
              "\n",
              "          const docLinkHtml = 'Like what you see? Visit the ' +\n",
              "            '<a target=\"_blank\" href=https://colab.research.google.com/notebooks/data_table.ipynb>data table notebook</a>'\n",
              "            + ' to learn more about interactive tables.';\n",
              "          element.innerHTML = '';\n",
              "          dataTable['output_type'] = 'display_data';\n",
              "          await google.colab.output.renderOutput(dataTable, element);\n",
              "          const docLink = document.createElement('div');\n",
              "          docLink.innerHTML = docLinkHtml;\n",
              "          element.appendChild(docLink);\n",
              "        }\n",
              "      </script>\n",
              "    </div>\n",
              "  </div>\n",
              "  "
            ]
          },
          "metadata": {},
          "execution_count": 8
        }
      ]
    },
    {
      "cell_type": "markdown",
      "source": [
        "The feature \"Cabin\" is divided into three sections namely, deck/num/side, where side can be either P for Port or S for Starboard. The objective is to remove side data from \"Cabin\" feature as it provides valuable information about the side of the traveller. The other two sections \"deck\" and \"num\" are removed as they didn't provide any valuable information and not having any effect on passenger of being transported."
      ],
      "metadata": {
        "id": "DEeGsfYfV-VM"
      }
    },
    {
      "cell_type": "code",
      "source": [
        "# Splitting feature \"Cabin\" into \"Deck\", \"Cabin\" and \"Side\"\n",
        "data[[\"Deck\", \"Cabin\", \"Side\"]] = data.Cabin.str.split(\"/\", expand = True)\n",
        "\n",
        "# Dropping \"Deck\" and \"Cabin\" column\n",
        "data = data.drop([\"Deck\", \"Cabin\"], axis = 1)\n",
        "\n",
        "# Splitting feature \"Cabin\" into \"Deck\", \"Cabin\" and \"Side\" is carried out on separate training data\n",
        "train_separate[[\"Deck\", \"Cabin\", \"Side\"]] = train_separate.Cabin.str.split(\"/\", expand = True)\n",
        "\n",
        "# Dropping \"Deck\" and \"Cabin\" column from train_separate dataset\n",
        "train_separate = train_separate.drop([\"Deck\", \"Cabin\"], axis = 1)\n",
        "\n",
        "print(\"Checking the head of dataset to verify the columns \\\"Deck\\\" and \\\"Cabin\\\" are dropped: \")\n",
        "data.head()"
      ],
      "metadata": {
        "colab": {
          "base_uri": "https://localhost:8080/",
          "height": 223
        },
        "id": "1lz5wSkrcOki",
        "outputId": "75fdcc45-9e3f-4794-e6a2-3e3ac671eba4"
      },
      "execution_count": null,
      "outputs": [
        {
          "output_type": "stream",
          "name": "stdout",
          "text": [
            "Checking the head of dataset to verify the columns \"Deck\" and \"Cabin\" are dropped: \n"
          ]
        },
        {
          "output_type": "execute_result",
          "data": {
            "text/plain": [
              "  HomePlanet CryoSleep  Destination   Age    VIP  RoomService  FoodCourt  \\\n",
              "0     Europa     False  TRAPPIST-1e  39.0  False          0.0        0.0   \n",
              "1      Earth     False  TRAPPIST-1e  24.0  False        109.0        9.0   \n",
              "2     Europa     False  TRAPPIST-1e  58.0   True         43.0     3576.0   \n",
              "3     Europa     False  TRAPPIST-1e  33.0  False          0.0     1283.0   \n",
              "4      Earth     False  TRAPPIST-1e  16.0  False        303.0       70.0   \n",
              "\n",
              "   ShoppingMall     Spa  VRDeck Side  \n",
              "0           0.0     0.0     0.0    P  \n",
              "1          25.0   549.0    44.0    S  \n",
              "2           0.0  6715.0    49.0    S  \n",
              "3         371.0  3329.0   193.0    S  \n",
              "4         151.0   565.0     2.0    S  "
            ],
            "text/html": [
              "\n",
              "  <div id=\"df-16fcf50c-a5ee-4784-a00c-bc88311b0e60\">\n",
              "    <div class=\"colab-df-container\">\n",
              "      <div>\n",
              "<style scoped>\n",
              "    .dataframe tbody tr th:only-of-type {\n",
              "        vertical-align: middle;\n",
              "    }\n",
              "\n",
              "    .dataframe tbody tr th {\n",
              "        vertical-align: top;\n",
              "    }\n",
              "\n",
              "    .dataframe thead th {\n",
              "        text-align: right;\n",
              "    }\n",
              "</style>\n",
              "<table border=\"1\" class=\"dataframe\">\n",
              "  <thead>\n",
              "    <tr style=\"text-align: right;\">\n",
              "      <th></th>\n",
              "      <th>HomePlanet</th>\n",
              "      <th>CryoSleep</th>\n",
              "      <th>Destination</th>\n",
              "      <th>Age</th>\n",
              "      <th>VIP</th>\n",
              "      <th>RoomService</th>\n",
              "      <th>FoodCourt</th>\n",
              "      <th>ShoppingMall</th>\n",
              "      <th>Spa</th>\n",
              "      <th>VRDeck</th>\n",
              "      <th>Side</th>\n",
              "    </tr>\n",
              "  </thead>\n",
              "  <tbody>\n",
              "    <tr>\n",
              "      <th>0</th>\n",
              "      <td>Europa</td>\n",
              "      <td>False</td>\n",
              "      <td>TRAPPIST-1e</td>\n",
              "      <td>39.0</td>\n",
              "      <td>False</td>\n",
              "      <td>0.0</td>\n",
              "      <td>0.0</td>\n",
              "      <td>0.0</td>\n",
              "      <td>0.0</td>\n",
              "      <td>0.0</td>\n",
              "      <td>P</td>\n",
              "    </tr>\n",
              "    <tr>\n",
              "      <th>1</th>\n",
              "      <td>Earth</td>\n",
              "      <td>False</td>\n",
              "      <td>TRAPPIST-1e</td>\n",
              "      <td>24.0</td>\n",
              "      <td>False</td>\n",
              "      <td>109.0</td>\n",
              "      <td>9.0</td>\n",
              "      <td>25.0</td>\n",
              "      <td>549.0</td>\n",
              "      <td>44.0</td>\n",
              "      <td>S</td>\n",
              "    </tr>\n",
              "    <tr>\n",
              "      <th>2</th>\n",
              "      <td>Europa</td>\n",
              "      <td>False</td>\n",
              "      <td>TRAPPIST-1e</td>\n",
              "      <td>58.0</td>\n",
              "      <td>True</td>\n",
              "      <td>43.0</td>\n",
              "      <td>3576.0</td>\n",
              "      <td>0.0</td>\n",
              "      <td>6715.0</td>\n",
              "      <td>49.0</td>\n",
              "      <td>S</td>\n",
              "    </tr>\n",
              "    <tr>\n",
              "      <th>3</th>\n",
              "      <td>Europa</td>\n",
              "      <td>False</td>\n",
              "      <td>TRAPPIST-1e</td>\n",
              "      <td>33.0</td>\n",
              "      <td>False</td>\n",
              "      <td>0.0</td>\n",
              "      <td>1283.0</td>\n",
              "      <td>371.0</td>\n",
              "      <td>3329.0</td>\n",
              "      <td>193.0</td>\n",
              "      <td>S</td>\n",
              "    </tr>\n",
              "    <tr>\n",
              "      <th>4</th>\n",
              "      <td>Earth</td>\n",
              "      <td>False</td>\n",
              "      <td>TRAPPIST-1e</td>\n",
              "      <td>16.0</td>\n",
              "      <td>False</td>\n",
              "      <td>303.0</td>\n",
              "      <td>70.0</td>\n",
              "      <td>151.0</td>\n",
              "      <td>565.0</td>\n",
              "      <td>2.0</td>\n",
              "      <td>S</td>\n",
              "    </tr>\n",
              "  </tbody>\n",
              "</table>\n",
              "</div>\n",
              "      <button class=\"colab-df-convert\" onclick=\"convertToInteractive('df-16fcf50c-a5ee-4784-a00c-bc88311b0e60')\"\n",
              "              title=\"Convert this dataframe to an interactive table.\"\n",
              "              style=\"display:none;\">\n",
              "        \n",
              "  <svg xmlns=\"http://www.w3.org/2000/svg\" height=\"24px\"viewBox=\"0 0 24 24\"\n",
              "       width=\"24px\">\n",
              "    <path d=\"M0 0h24v24H0V0z\" fill=\"none\"/>\n",
              "    <path d=\"M18.56 5.44l.94 2.06.94-2.06 2.06-.94-2.06-.94-.94-2.06-.94 2.06-2.06.94zm-11 1L8.5 8.5l.94-2.06 2.06-.94-2.06-.94L8.5 2.5l-.94 2.06-2.06.94zm10 10l.94 2.06.94-2.06 2.06-.94-2.06-.94-.94-2.06-.94 2.06-2.06.94z\"/><path d=\"M17.41 7.96l-1.37-1.37c-.4-.4-.92-.59-1.43-.59-.52 0-1.04.2-1.43.59L10.3 9.45l-7.72 7.72c-.78.78-.78 2.05 0 2.83L4 21.41c.39.39.9.59 1.41.59.51 0 1.02-.2 1.41-.59l7.78-7.78 2.81-2.81c.8-.78.8-2.07 0-2.86zM5.41 20L4 18.59l7.72-7.72 1.47 1.35L5.41 20z\"/>\n",
              "  </svg>\n",
              "      </button>\n",
              "      \n",
              "  <style>\n",
              "    .colab-df-container {\n",
              "      display:flex;\n",
              "      flex-wrap:wrap;\n",
              "      gap: 12px;\n",
              "    }\n",
              "\n",
              "    .colab-df-convert {\n",
              "      background-color: #E8F0FE;\n",
              "      border: none;\n",
              "      border-radius: 50%;\n",
              "      cursor: pointer;\n",
              "      display: none;\n",
              "      fill: #1967D2;\n",
              "      height: 32px;\n",
              "      padding: 0 0 0 0;\n",
              "      width: 32px;\n",
              "    }\n",
              "\n",
              "    .colab-df-convert:hover {\n",
              "      background-color: #E2EBFA;\n",
              "      box-shadow: 0px 1px 2px rgba(60, 64, 67, 0.3), 0px 1px 3px 1px rgba(60, 64, 67, 0.15);\n",
              "      fill: #174EA6;\n",
              "    }\n",
              "\n",
              "    [theme=dark] .colab-df-convert {\n",
              "      background-color: #3B4455;\n",
              "      fill: #D2E3FC;\n",
              "    }\n",
              "\n",
              "    [theme=dark] .colab-df-convert:hover {\n",
              "      background-color: #434B5C;\n",
              "      box-shadow: 0px 1px 3px 1px rgba(0, 0, 0, 0.15);\n",
              "      filter: drop-shadow(0px 1px 2px rgba(0, 0, 0, 0.3));\n",
              "      fill: #FFFFFF;\n",
              "    }\n",
              "  </style>\n",
              "\n",
              "      <script>\n",
              "        const buttonEl =\n",
              "          document.querySelector('#df-16fcf50c-a5ee-4784-a00c-bc88311b0e60 button.colab-df-convert');\n",
              "        buttonEl.style.display =\n",
              "          google.colab.kernel.accessAllowed ? 'block' : 'none';\n",
              "\n",
              "        async function convertToInteractive(key) {\n",
              "          const element = document.querySelector('#df-16fcf50c-a5ee-4784-a00c-bc88311b0e60');\n",
              "          const dataTable =\n",
              "            await google.colab.kernel.invokeFunction('convertToInteractive',\n",
              "                                                     [key], {});\n",
              "          if (!dataTable) return;\n",
              "\n",
              "          const docLinkHtml = 'Like what you see? Visit the ' +\n",
              "            '<a target=\"_blank\" href=https://colab.research.google.com/notebooks/data_table.ipynb>data table notebook</a>'\n",
              "            + ' to learn more about interactive tables.';\n",
              "          element.innerHTML = '';\n",
              "          dataTable['output_type'] = 'display_data';\n",
              "          await google.colab.output.renderOutput(dataTable, element);\n",
              "          const docLink = document.createElement('div');\n",
              "          docLink.innerHTML = docLinkHtml;\n",
              "          element.appendChild(docLink);\n",
              "        }\n",
              "      </script>\n",
              "    </div>\n",
              "  </div>\n",
              "  "
            ]
          },
          "metadata": {},
          "execution_count": 9
        }
      ]
    },
    {
      "cell_type": "code",
      "source": [
        "# Get information on the dataset\n",
        "data.info()"
      ],
      "metadata": {
        "colab": {
          "base_uri": "https://localhost:8080/"
        },
        "id": "ZYh_SnNCOH51",
        "outputId": "0b897ca5-2bcc-4807-b2af-589310f2aa6e"
      },
      "execution_count": null,
      "outputs": [
        {
          "output_type": "stream",
          "name": "stdout",
          "text": [
            "<class 'pandas.core.frame.DataFrame'>\n",
            "RangeIndex: 12970 entries, 0 to 12969\n",
            "Data columns (total 11 columns):\n",
            " #   Column        Non-Null Count  Dtype  \n",
            "---  ------        --------------  -----  \n",
            " 0   HomePlanet    12682 non-null  object \n",
            " 1   CryoSleep     12660 non-null  object \n",
            " 2   Destination   12696 non-null  object \n",
            " 3   Age           12700 non-null  float64\n",
            " 4   VIP           12674 non-null  object \n",
            " 5   RoomService   12707 non-null  float64\n",
            " 6   FoodCourt     12681 non-null  float64\n",
            " 7   ShoppingMall  12664 non-null  float64\n",
            " 8   Spa           12686 non-null  float64\n",
            " 9   VRDeck        12702 non-null  float64\n",
            " 10  Side          12671 non-null  object \n",
            "dtypes: float64(6), object(5)\n",
            "memory usage: 1.1+ MB\n"
          ]
        }
      ]
    },
    {
      "cell_type": "code",
      "source": [
        "# Identification of features into Numerical and Categorical\n",
        "\n",
        "print('Feature', 'Type'.rjust(28, ' '))\n",
        "print('-'*36)\n",
        "for variable in data.columns:\n",
        "  if data[variable].dtype == 'float64':\n",
        "    target = 'Numerical'\n",
        "  else:\n",
        "    target = 'Categorical'\n",
        "  print(variable, target.rjust(36 - len(variable), '-'))\n"
      ],
      "metadata": {
        "colab": {
          "base_uri": "https://localhost:8080/"
        },
        "id": "ztVBaqng4KA4",
        "outputId": "aacc9bd4-3023-4c8d-9ada-fa68734d1cde"
      },
      "execution_count": null,
      "outputs": [
        {
          "output_type": "stream",
          "name": "stdout",
          "text": [
            "Feature                         Type\n",
            "------------------------------------\n",
            "HomePlanet ---------------Categorical\n",
            "CryoSleep ----------------Categorical\n",
            "Destination --------------Categorical\n",
            "Age ------------------------Numerical\n",
            "VIP ----------------------Categorical\n",
            "RoomService ----------------Numerical\n",
            "FoodCourt ------------------Numerical\n",
            "ShoppingMall ---------------Numerical\n",
            "Spa ------------------------Numerical\n",
            "VRDeck ---------------------Numerical\n",
            "Side ---------------------Categorical\n"
          ]
        }
      ]
    },
    {
      "cell_type": "markdown",
      "source": [
        "### Numerical Features"
      ],
      "metadata": {
        "id": "2Z-ghrirVdpi"
      }
    },
    {
      "cell_type": "markdown",
      "source": [
        "There are 6 numerical features identified, now checking the distribution of numerical features by histogram is carried out.\n",
        "\n",
        "Numerical features - [Age, RoomService, FoodCourt, ShoppingMall, Spa, VRDeck]\n",
        "\n",
        "The below description on numerical features indicated that all the features provided are continuous."
      ],
      "metadata": {
        "id": "EHnrGKgDgC8f"
      }
    },
    {
      "cell_type": "code",
      "source": [
        "# Description of all numeric features\n",
        "data.describe()"
      ],
      "metadata": {
        "colab": {
          "base_uri": "https://localhost:8080/",
          "height": 300
        },
        "id": "vRG5PDIWgcYp",
        "outputId": "104ecbff-e492-479e-d063-fb6b8152ffc3"
      },
      "execution_count": null,
      "outputs": [
        {
          "output_type": "execute_result",
          "data": {
            "text/plain": [
              "                Age   RoomService     FoodCourt  ShoppingMall           Spa  \\\n",
              "count  12700.000000  12707.000000  12681.000000  12664.000000  12686.000000   \n",
              "mean      28.771969    222.897852    451.961675    174.906033    308.476904   \n",
              "std       14.387261    647.596664   1584.370747    590.558690   1130.279641   \n",
              "min        0.000000      0.000000      0.000000      0.000000      0.000000   \n",
              "25%       19.000000      0.000000      0.000000      0.000000      0.000000   \n",
              "50%       27.000000      0.000000      0.000000      0.000000      0.000000   \n",
              "75%       38.000000     49.000000     77.000000     29.000000     57.000000   \n",
              "max       79.000000  14327.000000  29813.000000  23492.000000  22408.000000   \n",
              "\n",
              "             VRDeck  \n",
              "count  12702.000000  \n",
              "mean     306.789482  \n",
              "std     1180.097223  \n",
              "min        0.000000  \n",
              "25%        0.000000  \n",
              "50%        0.000000  \n",
              "75%       42.000000  \n",
              "max    24133.000000  "
            ],
            "text/html": [
              "\n",
              "  <div id=\"df-a25cf0f0-1631-4519-bbe4-9df92f42ace7\">\n",
              "    <div class=\"colab-df-container\">\n",
              "      <div>\n",
              "<style scoped>\n",
              "    .dataframe tbody tr th:only-of-type {\n",
              "        vertical-align: middle;\n",
              "    }\n",
              "\n",
              "    .dataframe tbody tr th {\n",
              "        vertical-align: top;\n",
              "    }\n",
              "\n",
              "    .dataframe thead th {\n",
              "        text-align: right;\n",
              "    }\n",
              "</style>\n",
              "<table border=\"1\" class=\"dataframe\">\n",
              "  <thead>\n",
              "    <tr style=\"text-align: right;\">\n",
              "      <th></th>\n",
              "      <th>Age</th>\n",
              "      <th>RoomService</th>\n",
              "      <th>FoodCourt</th>\n",
              "      <th>ShoppingMall</th>\n",
              "      <th>Spa</th>\n",
              "      <th>VRDeck</th>\n",
              "    </tr>\n",
              "  </thead>\n",
              "  <tbody>\n",
              "    <tr>\n",
              "      <th>count</th>\n",
              "      <td>12700.000000</td>\n",
              "      <td>12707.000000</td>\n",
              "      <td>12681.000000</td>\n",
              "      <td>12664.000000</td>\n",
              "      <td>12686.000000</td>\n",
              "      <td>12702.000000</td>\n",
              "    </tr>\n",
              "    <tr>\n",
              "      <th>mean</th>\n",
              "      <td>28.771969</td>\n",
              "      <td>222.897852</td>\n",
              "      <td>451.961675</td>\n",
              "      <td>174.906033</td>\n",
              "      <td>308.476904</td>\n",
              "      <td>306.789482</td>\n",
              "    </tr>\n",
              "    <tr>\n",
              "      <th>std</th>\n",
              "      <td>14.387261</td>\n",
              "      <td>647.596664</td>\n",
              "      <td>1584.370747</td>\n",
              "      <td>590.558690</td>\n",
              "      <td>1130.279641</td>\n",
              "      <td>1180.097223</td>\n",
              "    </tr>\n",
              "    <tr>\n",
              "      <th>min</th>\n",
              "      <td>0.000000</td>\n",
              "      <td>0.000000</td>\n",
              "      <td>0.000000</td>\n",
              "      <td>0.000000</td>\n",
              "      <td>0.000000</td>\n",
              "      <td>0.000000</td>\n",
              "    </tr>\n",
              "    <tr>\n",
              "      <th>25%</th>\n",
              "      <td>19.000000</td>\n",
              "      <td>0.000000</td>\n",
              "      <td>0.000000</td>\n",
              "      <td>0.000000</td>\n",
              "      <td>0.000000</td>\n",
              "      <td>0.000000</td>\n",
              "    </tr>\n",
              "    <tr>\n",
              "      <th>50%</th>\n",
              "      <td>27.000000</td>\n",
              "      <td>0.000000</td>\n",
              "      <td>0.000000</td>\n",
              "      <td>0.000000</td>\n",
              "      <td>0.000000</td>\n",
              "      <td>0.000000</td>\n",
              "    </tr>\n",
              "    <tr>\n",
              "      <th>75%</th>\n",
              "      <td>38.000000</td>\n",
              "      <td>49.000000</td>\n",
              "      <td>77.000000</td>\n",
              "      <td>29.000000</td>\n",
              "      <td>57.000000</td>\n",
              "      <td>42.000000</td>\n",
              "    </tr>\n",
              "    <tr>\n",
              "      <th>max</th>\n",
              "      <td>79.000000</td>\n",
              "      <td>14327.000000</td>\n",
              "      <td>29813.000000</td>\n",
              "      <td>23492.000000</td>\n",
              "      <td>22408.000000</td>\n",
              "      <td>24133.000000</td>\n",
              "    </tr>\n",
              "  </tbody>\n",
              "</table>\n",
              "</div>\n",
              "      <button class=\"colab-df-convert\" onclick=\"convertToInteractive('df-a25cf0f0-1631-4519-bbe4-9df92f42ace7')\"\n",
              "              title=\"Convert this dataframe to an interactive table.\"\n",
              "              style=\"display:none;\">\n",
              "        \n",
              "  <svg xmlns=\"http://www.w3.org/2000/svg\" height=\"24px\"viewBox=\"0 0 24 24\"\n",
              "       width=\"24px\">\n",
              "    <path d=\"M0 0h24v24H0V0z\" fill=\"none\"/>\n",
              "    <path d=\"M18.56 5.44l.94 2.06.94-2.06 2.06-.94-2.06-.94-.94-2.06-.94 2.06-2.06.94zm-11 1L8.5 8.5l.94-2.06 2.06-.94-2.06-.94L8.5 2.5l-.94 2.06-2.06.94zm10 10l.94 2.06.94-2.06 2.06-.94-2.06-.94-.94-2.06-.94 2.06-2.06.94z\"/><path d=\"M17.41 7.96l-1.37-1.37c-.4-.4-.92-.59-1.43-.59-.52 0-1.04.2-1.43.59L10.3 9.45l-7.72 7.72c-.78.78-.78 2.05 0 2.83L4 21.41c.39.39.9.59 1.41.59.51 0 1.02-.2 1.41-.59l7.78-7.78 2.81-2.81c.8-.78.8-2.07 0-2.86zM5.41 20L4 18.59l7.72-7.72 1.47 1.35L5.41 20z\"/>\n",
              "  </svg>\n",
              "      </button>\n",
              "      \n",
              "  <style>\n",
              "    .colab-df-container {\n",
              "      display:flex;\n",
              "      flex-wrap:wrap;\n",
              "      gap: 12px;\n",
              "    }\n",
              "\n",
              "    .colab-df-convert {\n",
              "      background-color: #E8F0FE;\n",
              "      border: none;\n",
              "      border-radius: 50%;\n",
              "      cursor: pointer;\n",
              "      display: none;\n",
              "      fill: #1967D2;\n",
              "      height: 32px;\n",
              "      padding: 0 0 0 0;\n",
              "      width: 32px;\n",
              "    }\n",
              "\n",
              "    .colab-df-convert:hover {\n",
              "      background-color: #E2EBFA;\n",
              "      box-shadow: 0px 1px 2px rgba(60, 64, 67, 0.3), 0px 1px 3px 1px rgba(60, 64, 67, 0.15);\n",
              "      fill: #174EA6;\n",
              "    }\n",
              "\n",
              "    [theme=dark] .colab-df-convert {\n",
              "      background-color: #3B4455;\n",
              "      fill: #D2E3FC;\n",
              "    }\n",
              "\n",
              "    [theme=dark] .colab-df-convert:hover {\n",
              "      background-color: #434B5C;\n",
              "      box-shadow: 0px 1px 3px 1px rgba(0, 0, 0, 0.15);\n",
              "      filter: drop-shadow(0px 1px 2px rgba(0, 0, 0, 0.3));\n",
              "      fill: #FFFFFF;\n",
              "    }\n",
              "  </style>\n",
              "\n",
              "      <script>\n",
              "        const buttonEl =\n",
              "          document.querySelector('#df-a25cf0f0-1631-4519-bbe4-9df92f42ace7 button.colab-df-convert');\n",
              "        buttonEl.style.display =\n",
              "          google.colab.kernel.accessAllowed ? 'block' : 'none';\n",
              "\n",
              "        async function convertToInteractive(key) {\n",
              "          const element = document.querySelector('#df-a25cf0f0-1631-4519-bbe4-9df92f42ace7');\n",
              "          const dataTable =\n",
              "            await google.colab.kernel.invokeFunction('convertToInteractive',\n",
              "                                                     [key], {});\n",
              "          if (!dataTable) return;\n",
              "\n",
              "          const docLinkHtml = 'Like what you see? Visit the ' +\n",
              "            '<a target=\"_blank\" href=https://colab.research.google.com/notebooks/data_table.ipynb>data table notebook</a>'\n",
              "            + ' to learn more about interactive tables.';\n",
              "          element.innerHTML = '';\n",
              "          dataTable['output_type'] = 'display_data';\n",
              "          await google.colab.output.renderOutput(dataTable, element);\n",
              "          const docLink = document.createElement('div');\n",
              "          docLink.innerHTML = docLinkHtml;\n",
              "          element.appendChild(docLink);\n",
              "        }\n",
              "      </script>\n",
              "    </div>\n",
              "  </div>\n",
              "  "
            ]
          },
          "metadata": {},
          "execution_count": 12
        }
      ]
    },
    {
      "cell_type": "code",
      "source": [
        "# Check distributions of numerical features\n",
        "def draw_histograms(df, variables, n_rows, n_cols, color):\n",
        "    fig=plt.figure()\n",
        "    for index, var_name in enumerate(variables):\n",
        "        axes=fig.add_subplot(n_rows,n_cols,index+1)\n",
        "        df[var_name].hist(bins=10, ax=axes, figsize=(12, 6), color=color)\n",
        "        axes.set_title(var_name +\" Distribution\")\n",
        "    fig.tight_layout()  # Improves appearance a bit\n",
        "    plt.show()\n",
        "\n",
        "numerical_data = data[[\"Age\", \"RoomService\", \"FoodCourt\", \"ShoppingMall\", \"Spa\", \"VRDeck\"]]\n",
        "draw_histograms(data, numerical_data.columns, 2, 3, \"orange\")"
      ],
      "metadata": {
        "colab": {
          "base_uri": "https://localhost:8080/",
          "height": 441
        },
        "id": "u0DJ7_VjBrMh",
        "outputId": "56e5c383-d1ad-4bcb-c8e9-4e7f73b84abb"
      },
      "execution_count": null,
      "outputs": [
        {
          "output_type": "display_data",
          "data": {
            "text/plain": [
              "<Figure size 864x432 with 6 Axes>"
            ],
            "image/png": "[encoded data removed]"
          },
          "metadata": {
            "needs_background": "light"
          }
        }
      ]
    },
    {
      "cell_type": "markdown",
      "source": [
        "As we can see from the histogram distribution, the features referring to the expenses on deck are strongly skewed to the right. So there are a lot of 0 or low expenses. Since these features represents strictly positive amounts, we can log-transform them to get a better overview of possible differences."
      ],
      "metadata": {
        "id": "ZT4APv3QEOcw"
      }
    },
    {
      "cell_type": "code",
      "source": [
        "# Log-transform data and plot histogram\n",
        "log_train = data.copy()\n",
        "log_features = ['RoomService', 'FoodCourt', 'ShoppingMall', 'Spa', 'VRDeck']\n",
        "\n",
        "log_train[log_features] = log_train[log_features].apply(lambda col: np.log(col+1), raw=True, axis=1)\n",
        "log_features = log_train[log_features]\n",
        "draw_histograms(log_train, log_features.columns, 2, 3, \"purple\")"
      ],
      "metadata": {
        "colab": {
          "base_uri": "https://localhost:8080/",
          "height": 441
        },
        "id": "mltHVKweE5NE",
        "outputId": "b277a35d-7a63-4f2d-87d9-859dbca57f26"
      },
      "execution_count": null,
      "outputs": [
        {
          "output_type": "display_data",
          "data": {
            "text/plain": [
              "<Figure size 864x432 with 5 Axes>"
            ],
            "image/png": "[encoded data removed]"
          },
          "metadata": {
            "needs_background": "light"
          }
        }
      ]
    },
    {
      "cell_type": "markdown",
      "source": [
        "After observation from the above figure of distribution of histogram of log scales on features related to expenses, it was observed that although some of the data showed positive trend in the distribution but didn't make any difference so it was decided by both team members to leave the data to its given way."
      ],
      "metadata": {
        "id": "HD3c9DuuG7Z_"
      }
    },
    {
      "cell_type": "markdown",
      "source": [
        "### Categorical Features"
      ],
      "metadata": {
        "id": "ZdPdaeeOV2jm"
      }
    },
    {
      "cell_type": "markdown",
      "source": [
        "There are 5 categorical features identified\n",
        "\n",
        "Categorical features - [HomePlanet, CryoSleep, Destination, VIP, Side]\n",
        "\n",
        "The below description on categorical features showed that it contained either boolean or non-boolean data type columns."
      ],
      "metadata": {
        "id": "zBwwE5YshZZN"
      }
    },
    {
      "cell_type": "code",
      "source": [
        "# Description of Categorical Features\n",
        "data.describe(include=[object])"
      ],
      "metadata": {
        "colab": {
          "base_uri": "https://localhost:8080/",
          "height": 175
        },
        "id": "CZbONwHMhiNd",
        "outputId": "9ae235f1-3509-4732-b2c5-49a52b38b55b"
      },
      "execution_count": null,
      "outputs": [
        {
          "output_type": "execute_result",
          "data": {
            "text/plain": [
              "       HomePlanet CryoSleep  Destination    VIP   Side\n",
              "count       12682     12660        12696  12674  12671\n",
              "unique          3         2            3      2      2\n",
              "top         Earth     False  TRAPPIST-1e  False      S\n",
              "freq         6865      8079         8871  12401   6381"
            ],
            "text/html": [
              "\n",
              "  <div id=\"df-5f92d5be-b86e-470c-95e9-4a840df61228\">\n",
              "    <div class=\"colab-df-container\">\n",
              "      <div>\n",
              "<style scoped>\n",
              "    .dataframe tbody tr th:only-of-type {\n",
              "        vertical-align: middle;\n",
              "    }\n",
              "\n",
              "    .dataframe tbody tr th {\n",
              "        vertical-align: top;\n",
              "    }\n",
              "\n",
              "    .dataframe thead th {\n",
              "        text-align: right;\n",
              "    }\n",
              "</style>\n",
              "<table border=\"1\" class=\"dataframe\">\n",
              "  <thead>\n",
              "    <tr style=\"text-align: right;\">\n",
              "      <th></th>\n",
              "      <th>HomePlanet</th>\n",
              "      <th>CryoSleep</th>\n",
              "      <th>Destination</th>\n",
              "      <th>VIP</th>\n",
              "      <th>Side</th>\n",
              "    </tr>\n",
              "  </thead>\n",
              "  <tbody>\n",
              "    <tr>\n",
              "      <th>count</th>\n",
              "      <td>12682</td>\n",
              "      <td>12660</td>\n",
              "      <td>12696</td>\n",
              "      <td>12674</td>\n",
              "      <td>12671</td>\n",
              "    </tr>\n",
              "    <tr>\n",
              "      <th>unique</th>\n",
              "      <td>3</td>\n",
              "      <td>2</td>\n",
              "      <td>3</td>\n",
              "      <td>2</td>\n",
              "      <td>2</td>\n",
              "    </tr>\n",
              "    <tr>\n",
              "      <th>top</th>\n",
              "      <td>Earth</td>\n",
              "      <td>False</td>\n",
              "      <td>TRAPPIST-1e</td>\n",
              "      <td>False</td>\n",
              "      <td>S</td>\n",
              "    </tr>\n",
              "    <tr>\n",
              "      <th>freq</th>\n",
              "      <td>6865</td>\n",
              "      <td>8079</td>\n",
              "      <td>8871</td>\n",
              "      <td>12401</td>\n",
              "      <td>6381</td>\n",
              "    </tr>\n",
              "  </tbody>\n",
              "</table>\n",
              "</div>\n",
              "      <button class=\"colab-df-convert\" onclick=\"convertToInteractive('df-5f92d5be-b86e-470c-95e9-4a840df61228')\"\n",
              "              title=\"Convert this dataframe to an interactive table.\"\n",
              "              style=\"display:none;\">\n",
              "        \n",
              "  <svg xmlns=\"http://www.w3.org/2000/svg\" height=\"24px\"viewBox=\"0 0 24 24\"\n",
              "       width=\"24px\">\n",
              "    <path d=\"M0 0h24v24H0V0z\" fill=\"none\"/>\n",
              "    <path d=\"M18.56 5.44l.94 2.06.94-2.06 2.06-.94-2.06-.94-.94-2.06-.94 2.06-2.06.94zm-11 1L8.5 8.5l.94-2.06 2.06-.94-2.06-.94L8.5 2.5l-.94 2.06-2.06.94zm10 10l.94 2.06.94-2.06 2.06-.94-2.06-.94-.94-2.06-.94 2.06-2.06.94z\"/><path d=\"M17.41 7.96l-1.37-1.37c-.4-.4-.92-.59-1.43-.59-.52 0-1.04.2-1.43.59L10.3 9.45l-7.72 7.72c-.78.78-.78 2.05 0 2.83L4 21.41c.39.39.9.59 1.41.59.51 0 1.02-.2 1.41-.59l7.78-7.78 2.81-2.81c.8-.78.8-2.07 0-2.86zM5.41 20L4 18.59l7.72-7.72 1.47 1.35L5.41 20z\"/>\n",
              "  </svg>\n",
              "      </button>\n",
              "      \n",
              "  <style>\n",
              "    .colab-df-container {\n",
              "      display:flex;\n",
              "      flex-wrap:wrap;\n",
              "      gap: 12px;\n",
              "    }\n",
              "\n",
              "    .colab-df-convert {\n",
              "      background-color: #E8F0FE;\n",
              "      border: none;\n",
              "      border-radius: 50%;\n",
              "      cursor: pointer;\n",
              "      display: none;\n",
              "      fill: #1967D2;\n",
              "      height: 32px;\n",
              "      padding: 0 0 0 0;\n",
              "      width: 32px;\n",
              "    }\n",
              "\n",
              "    .colab-df-convert:hover {\n",
              "      background-color: #E2EBFA;\n",
              "      box-shadow: 0px 1px 2px rgba(60, 64, 67, 0.3), 0px 1px 3px 1px rgba(60, 64, 67, 0.15);\n",
              "      fill: #174EA6;\n",
              "    }\n",
              "\n",
              "    [theme=dark] .colab-df-convert {\n",
              "      background-color: #3B4455;\n",
              "      fill: #D2E3FC;\n",
              "    }\n",
              "\n",
              "    [theme=dark] .colab-df-convert:hover {\n",
              "      background-color: #434B5C;\n",
              "      box-shadow: 0px 1px 3px 1px rgba(0, 0, 0, 0.15);\n",
              "      filter: drop-shadow(0px 1px 2px rgba(0, 0, 0, 0.3));\n",
              "      fill: #FFFFFF;\n",
              "    }\n",
              "  </style>\n",
              "\n",
              "      <script>\n",
              "        const buttonEl =\n",
              "          document.querySelector('#df-5f92d5be-b86e-470c-95e9-4a840df61228 button.colab-df-convert');\n",
              "        buttonEl.style.display =\n",
              "          google.colab.kernel.accessAllowed ? 'block' : 'none';\n",
              "\n",
              "        async function convertToInteractive(key) {\n",
              "          const element = document.querySelector('#df-5f92d5be-b86e-470c-95e9-4a840df61228');\n",
              "          const dataTable =\n",
              "            await google.colab.kernel.invokeFunction('convertToInteractive',\n",
              "                                                     [key], {});\n",
              "          if (!dataTable) return;\n",
              "\n",
              "          const docLinkHtml = 'Like what you see? Visit the ' +\n",
              "            '<a target=\"_blank\" href=https://colab.research.google.com/notebooks/data_table.ipynb>data table notebook</a>'\n",
              "            + ' to learn more about interactive tables.';\n",
              "          element.innerHTML = '';\n",
              "          dataTable['output_type'] = 'display_data';\n",
              "          await google.colab.output.renderOutput(dataTable, element);\n",
              "          const docLink = document.createElement('div');\n",
              "          docLink.innerHTML = docLinkHtml;\n",
              "          element.appendChild(docLink);\n",
              "        }\n",
              "      </script>\n",
              "    </div>\n",
              "  </div>\n",
              "  "
            ]
          },
          "metadata": {},
          "execution_count": 15
        }
      ]
    },
    {
      "cell_type": "code",
      "source": [
        "# Check distributions of categorical features\n",
        "categorical_data = ['HomePlanet', 'CryoSleep', 'Destination', 'VIP', 'Side']\n",
        "plt.figure(figsize=(25,15))\n",
        "\n",
        "for index, feature in enumerate(categorical_data):\n",
        "    plt.subplot(2,3,index+1)\n",
        "    train_separate.groupby(feature)[\"Transported\"].value_counts().unstack().plot(kind=\"bar\", rot=0, ax=plt.gca())\n",
        "    plt.title(\"Distribution of \"+ feature, fontsize=18)\n",
        "    plt.xlabel(\"\")\n",
        "    plt.ylabel(\"Numer of instances\", fontsize=12)\n",
        "    plt.xticks(fontsize=16)\n",
        "\n",
        "plt.subplots_adjust(wspace=0.3)"
      ],
      "metadata": {
        "colab": {
          "base_uri": "https://localhost:8080/",
          "height": 682
        },
        "id": "PldAJ-NEK8Mi",
        "outputId": "b584a4e7-540a-4695-b469-48fc3939be26"
      },
      "execution_count": null,
      "outputs": [
        {
          "output_type": "display_data",
          "data": {
            "text/plain": [
              "<Figure size 1800x1080 with 5 Axes>"
            ],
            "image/png": "[encoded data removed]"
          },
          "metadata": {
            "needs_background": "light"
          }
        }
      ]
    },
    {
      "cell_type": "markdown",
      "source": [
        "\n",
        "\n",
        "The HomePlanet feature shows that most of the passengers came from Earth and that passengers from Europa and Mars were more likely to be transported.\n",
        "\n",
        "For the CryoSleep feature, we can see an interesting relationship of a very high percentage of passengers who chose to be in CryoSleep during the journey were transported.\n",
        "\n",
        "We can see that the VIP status was very small and only a minimal percentage of passengers were VIPs.\n",
        "\n",
        "For the Side feature, there was almost equal distribution between Port and Starboard. Although, passengers with Starboard seem to be likely transported compared to that of Port.\n"
      ],
      "metadata": {
        "id": "FMkyVFbDQYCJ"
      }
    },
    {
      "cell_type": "markdown",
      "source": [
        "## Data Preprocessing"
      ],
      "metadata": {
        "id": "u36D8nbqrLCn"
      }
    },
    {
      "cell_type": "markdown",
      "source": [
        "- Locating missing values\n",
        "- Filling missing values on dataset\n",
        "- Standardization of Numerical Continuous features\n",
        "- Converting boolean categorical features using a label encoder and non-boolean categorical features using dummy variables\n",
        "- Dividing train and test data\n"
      ],
      "metadata": {
        "id": "CR2fJZdRtarn"
      }
    },
    {
      "cell_type": "code",
      "source": [
        "# Check for number of missing values in each feature\n",
        "print(\"Number of missing values in each feature: \")\n",
        "data.isna().sum()"
      ],
      "metadata": {
        "colab": {
          "base_uri": "https://localhost:8080/"
        },
        "id": "lsIoUwMyTsGY",
        "outputId": "b356577b-662a-4d99-daa7-784d8fc2c0ac"
      },
      "execution_count": null,
      "outputs": [
        {
          "output_type": "stream",
          "name": "stdout",
          "text": [
            "Number of missing values in each feature: \n"
          ]
        },
        {
          "output_type": "execute_result",
          "data": {
            "text/plain": [
              "HomePlanet      288\n",
              "CryoSleep       310\n",
              "Destination     274\n",
              "Age             270\n",
              "VIP             296\n",
              "RoomService     263\n",
              "FoodCourt       289\n",
              "ShoppingMall    306\n",
              "Spa             284\n",
              "VRDeck          268\n",
              "Side            299\n",
              "dtype: int64"
            ]
          },
          "metadata": {},
          "execution_count": 17
        }
      ]
    },
    {
      "cell_type": "markdown",
      "source": [
        "The below plot shows that all features have missing values. The range of missing values tends to be in between 250 to 300. The missing values in numerical features have been replaced with mean and missing values in categorical features have been replaced with mode."
      ],
      "metadata": {
        "id": "gx34Yun0UAAh"
      }
    },
    {
      "cell_type": "code",
      "source": [
        "# Plot for missing values in each feature\n",
        "data.isna().sum().sort_values().plot(kind=\"bar\", color=list('rgbkymc'))\n",
        "plt.show()"
      ],
      "metadata": {
        "colab": {
          "base_uri": "https://localhost:8080/",
          "height": 323
        },
        "id": "Jq-9hc7mSkTx",
        "outputId": "400d63cd-a643-4d58-c61c-37dab3e477ee"
      },
      "execution_count": null,
      "outputs": [
        {
          "output_type": "display_data",
          "data": {
            "text/plain": [
              "<Figure size 432x288 with 1 Axes>"
            ],
            "image/png": "[encoded data removed]"
          },
          "metadata": {
            "needs_background": "light"
          }
        }
      ]
    },
    {
      "cell_type": "code",
      "source": [
        "# Missing features in numerical features are replaced with mean and in categorical features are replaced with mode\n",
        "for feature in data.columns:\n",
        "  if data[feature].dtype == 'object':\n",
        "      data[feature]= data[feature].fillna(data[feature].mode()[0])\n",
        "  else:\n",
        "      data[feature] = data[feature].fillna(data[feature].mean())\n",
        "\n",
        "print(\"Number of missing values in each feature: \")\n",
        "data.isna().sum()"
      ],
      "metadata": {
        "colab": {
          "base_uri": "https://localhost:8080/"
        },
        "id": "TMdJl4-lVhcY",
        "outputId": "968c3f7c-1f20-4037-888d-e863cae59621"
      },
      "execution_count": null,
      "outputs": [
        {
          "output_type": "stream",
          "name": "stdout",
          "text": [
            "Number of missing values in each feature: \n"
          ]
        },
        {
          "output_type": "execute_result",
          "data": {
            "text/plain": [
              "HomePlanet      0\n",
              "CryoSleep       0\n",
              "Destination     0\n",
              "Age             0\n",
              "VIP             0\n",
              "RoomService     0\n",
              "FoodCourt       0\n",
              "ShoppingMall    0\n",
              "Spa             0\n",
              "VRDeck          0\n",
              "Side            0\n",
              "dtype: int64"
            ]
          },
          "metadata": {},
          "execution_count": 19
        }
      ]
    },
    {
      "cell_type": "markdown",
      "source": [
        "### Standardization of Continuous Features and Dummy Encoding"
      ],
      "metadata": {
        "id": "ZEvg86GLI0ZA"
      }
    },
    {
      "cell_type": "markdown",
      "source": [
        "Features of numerical data tend to have large differences between their ranges, we want to bring all the numerical features to a similar scale. Standard Scaler is performed on numerical features. Dummy encoding has been performed on non-boolean categorical features namely, \"HomePlanet\", \"Destination\" and \"Side\" to bring variables to numerical scale."
      ],
      "metadata": {
        "id": "Skx_BpTj6EmY"
      }
    },
    {
      "cell_type": "code",
      "source": [
        "# Perform standard scaler for numerical features\n",
        "numerical_data = [\"Age\", \"RoomService\", \"FoodCourt\", \"ShoppingMall\", \"Spa\", \"VRDeck\"]\n",
        "scaler = StandardScaler()\n",
        "\n",
        "for index in numerical_data:\n",
        "  data[index] = scaler.fit_transform(data[[index]])\n",
        "\n",
        "data"
      ],
      "metadata": {
        "colab": {
          "base_uri": "https://localhost:8080/",
          "height": 424
        },
        "id": "47SZDn2S7yZD",
        "outputId": "c8c06ba6-d58e-4914-b8d0-c5a172c16c66"
      },
      "execution_count": null,
      "outputs": [
        {
          "output_type": "execute_result",
          "data": {
            "text/plain": [
              "      HomePlanet  CryoSleep    Destination           Age    VIP  RoomService  \\\n",
              "0         Europa      False    TRAPPIST-1e  7.184543e-01  False    -0.347750   \n",
              "1          Earth      False    TRAPPIST-1e -3.352005e-01  False    -0.177696   \n",
              "2         Europa      False    TRAPPIST-1e  2.053084e+00   True    -0.280664   \n",
              "3         Europa      False    TRAPPIST-1e  2.969924e-01  False    -0.347750   \n",
              "4          Earth      False    TRAPPIST-1e -8.971498e-01  False     0.124970   \n",
              "...          ...        ...            ...           ...    ...          ...   \n",
              "12965      Earth       True    TRAPPIST-1e  3.672360e-01  False    -0.347750   \n",
              "12966      Earth      False    TRAPPIST-1e  9.291853e-01  False    -0.347750   \n",
              "12967       Mars       True    55 Cancri e -2.495556e-16  False    -0.347750   \n",
              "12968     Europa      False    TRAPPIST-1e -2.495556e-16  False    -0.347750   \n",
              "12969      Earth       True  PSO J318.5-22  9.994289e-01  False    -0.347750   \n",
              "\n",
              "       FoodCourt  ShoppingMall       Spa    VRDeck Side  \n",
              "0      -0.288506     -0.299739 -0.275970 -0.262708    P  \n",
              "1      -0.282761     -0.256896  0.215177 -0.225030    S  \n",
              "2       1.994205     -0.299739  5.731407 -0.220749    S  \n",
              "3       0.530487      0.336049  2.702222 -0.097440    S  \n",
              "4      -0.243822     -0.040968  0.229491 -0.260996    S  \n",
              "...          ...           ...       ...       ...  ...  \n",
              "12965  -0.288506     -0.299739 -0.275970 -0.262708    S  \n",
              "12966   0.252170     -0.270606 -0.267024 -0.139399    S  \n",
              "12967  -0.288506     -0.299739 -0.275970 -0.262708    P  \n",
              "12968   1.422251     -0.299739 -0.275970  0.185144    P  \n",
              "12969  -0.288506     -0.299739 -0.275970 -0.262708    S  \n",
              "\n",
              "[12970 rows x 11 columns]"
            ],
            "text/html": [
              "\n",
              "  <div id=\"df-994fec31-da2d-424e-a2ef-9924001d1f43\">\n",
              "    <div class=\"colab-df-container\">\n",
              "      <div>\n",
              "<style scoped>\n",
              "    .dataframe tbody tr th:only-of-type {\n",
              "        vertical-align: middle;\n",
              "    }\n",
              "\n",
              "    .dataframe tbody tr th {\n",
              "        vertical-align: top;\n",
              "    }\n",
              "\n",
              "    .dataframe thead th {\n",
              "        text-align: right;\n",
              "    }\n",
              "</style>\n",
              "<table border=\"1\" class=\"dataframe\">\n",
              "  <thead>\n",
              "    <tr style=\"text-align: right;\">\n",
              "      <th></th>\n",
              "      <th>HomePlanet</th>\n",
              "      <th>CryoSleep</th>\n",
              "      <th>Destination</th>\n",
              "      <th>Age</th>\n",
              "      <th>VIP</th>\n",
              "      <th>RoomService</th>\n",
              "      <th>FoodCourt</th>\n",
              "      <th>ShoppingMall</th>\n",
              "      <th>Spa</th>\n",
              "      <th>VRDeck</th>\n",
              "      <th>Side</th>\n",
              "    </tr>\n",
              "  </thead>\n",
              "  <tbody>\n",
              "    <tr>\n",
              "      <th>0</th>\n",
              "      <td>Europa</td>\n",
              "      <td>False</td>\n",
              "      <td>TRAPPIST-1e</td>\n",
              "      <td>7.184543e-01</td>\n",
              "      <td>False</td>\n",
              "      <td>-0.347750</td>\n",
              "      <td>-0.288506</td>\n",
              "      <td>-0.299739</td>\n",
              "      <td>-0.275970</td>\n",
              "      <td>-0.262708</td>\n",
              "      <td>P</td>\n",
              "    </tr>\n",
              "    <tr>\n",
              "      <th>1</th>\n",
              "      <td>Earth</td>\n",
              "      <td>False</td>\n",
              "      <td>TRAPPIST-1e</td>\n",
              "      <td>-3.352005e-01</td>\n",
              "      <td>False</td>\n",
              "      <td>-0.177696</td>\n",
              "      <td>-0.282761</td>\n",
              "      <td>-0.256896</td>\n",
              "      <td>0.215177</td>\n",
              "      <td>-0.225030</td>\n",
              "      <td>S</td>\n",
              "    </tr>\n",
              "    <tr>\n",
              "      <th>2</th>\n",
              "      <td>Europa</td>\n",
              "      <td>False</td>\n",
              "      <td>TRAPPIST-1e</td>\n",
              "      <td>2.053084e+00</td>\n",
              "      <td>True</td>\n",
              "      <td>-0.280664</td>\n",
              "      <td>1.994205</td>\n",
              "      <td>-0.299739</td>\n",
              "      <td>5.731407</td>\n",
              "      <td>-0.220749</td>\n",
              "      <td>S</td>\n",
              "    </tr>\n",
              "    <tr>\n",
              "      <th>3</th>\n",
              "      <td>Europa</td>\n",
              "      <td>False</td>\n",
              "      <td>TRAPPIST-1e</td>\n",
              "      <td>2.969924e-01</td>\n",
              "      <td>False</td>\n",
              "      <td>-0.347750</td>\n",
              "      <td>0.530487</td>\n",
              "      <td>0.336049</td>\n",
              "      <td>2.702222</td>\n",
              "      <td>-0.097440</td>\n",
              "      <td>S</td>\n",
              "    </tr>\n",
              "    <tr>\n",
              "      <th>4</th>\n",
              "      <td>Earth</td>\n",
              "      <td>False</td>\n",
              "      <td>TRAPPIST-1e</td>\n",
              "      <td>-8.971498e-01</td>\n",
              "      <td>False</td>\n",
              "      <td>0.124970</td>\n",
              "      <td>-0.243822</td>\n",
              "      <td>-0.040968</td>\n",
              "      <td>0.229491</td>\n",
              "      <td>-0.260996</td>\n",
              "      <td>S</td>\n",
              "    </tr>\n",
              "    <tr>\n",
              "      <th>...</th>\n",
              "      <td>...</td>\n",
              "      <td>...</td>\n",
              "      <td>...</td>\n",
              "      <td>...</td>\n",
              "      <td>...</td>\n",
              "      <td>...</td>\n",
              "      <td>...</td>\n",
              "      <td>...</td>\n",
              "      <td>...</td>\n",
              "      <td>...</td>\n",
              "      <td>...</td>\n",
              "    </tr>\n",
              "    <tr>\n",
              "      <th>12965</th>\n",
              "      <td>Earth</td>\n",
              "      <td>True</td>\n",
              "      <td>TRAPPIST-1e</td>\n",
              "      <td>3.672360e-01</td>\n",
              "      <td>False</td>\n",
              "      <td>-0.347750</td>\n",
              "      <td>-0.288506</td>\n",
              "      <td>-0.299739</td>\n",
              "      <td>-0.275970</td>\n",
              "      <td>-0.262708</td>\n",
              "      <td>S</td>\n",
              "    </tr>\n",
              "    <tr>\n",
              "      <th>12966</th>\n",
              "      <td>Earth</td>\n",
              "      <td>False</td>\n",
              "      <td>TRAPPIST-1e</td>\n",
              "      <td>9.291853e-01</td>\n",
              "      <td>False</td>\n",
              "      <td>-0.347750</td>\n",
              "      <td>0.252170</td>\n",
              "      <td>-0.270606</td>\n",
              "      <td>-0.267024</td>\n",
              "      <td>-0.139399</td>\n",
              "      <td>S</td>\n",
              "    </tr>\n",
              "    <tr>\n",
              "      <th>12967</th>\n",
              "      <td>Mars</td>\n",
              "      <td>True</td>\n",
              "      <td>55 Cancri e</td>\n",
              "      <td>-2.495556e-16</td>\n",
              "      <td>False</td>\n",
              "      <td>-0.347750</td>\n",
              "      <td>-0.288506</td>\n",
              "      <td>-0.299739</td>\n",
              "      <td>-0.275970</td>\n",
              "      <td>-0.262708</td>\n",
              "      <td>P</td>\n",
              "    </tr>\n",
              "    <tr>\n",
              "      <th>12968</th>\n",
              "      <td>Europa</td>\n",
              "      <td>False</td>\n",
              "      <td>TRAPPIST-1e</td>\n",
              "      <td>-2.495556e-16</td>\n",
              "      <td>False</td>\n",
              "      <td>-0.347750</td>\n",
              "      <td>1.422251</td>\n",
              "      <td>-0.299739</td>\n",
              "      <td>-0.275970</td>\n",
              "      <td>0.185144</td>\n",
              "      <td>P</td>\n",
              "    </tr>\n",
              "    <tr>\n",
              "      <th>12969</th>\n",
              "      <td>Earth</td>\n",
              "      <td>True</td>\n",
              "      <td>PSO J318.5-22</td>\n",
              "      <td>9.994289e-01</td>\n",
              "      <td>False</td>\n",
              "      <td>-0.347750</td>\n",
              "      <td>-0.288506</td>\n",
              "      <td>-0.299739</td>\n",
              "      <td>-0.275970</td>\n",
              "      <td>-0.262708</td>\n",
              "      <td>S</td>\n",
              "    </tr>\n",
              "  </tbody>\n",
              "</table>\n",
              "<p>12970 rows × 11 columns</p>\n",
              "</div>\n",
              "      <button class=\"colab-df-convert\" onclick=\"convertToInteractive('df-994fec31-da2d-424e-a2ef-9924001d1f43')\"\n",
              "              title=\"Convert this dataframe to an interactive table.\"\n",
              "              style=\"display:none;\">\n",
              "        \n",
              "  <svg xmlns=\"http://www.w3.org/2000/svg\" height=\"24px\"viewBox=\"0 0 24 24\"\n",
              "       width=\"24px\">\n",
              "    <path d=\"M0 0h24v24H0V0z\" fill=\"none\"/>\n",
              "    <path d=\"M18.56 5.44l.94 2.06.94-2.06 2.06-.94-2.06-.94-.94-2.06-.94 2.06-2.06.94zm-11 1L8.5 8.5l.94-2.06 2.06-.94-2.06-.94L8.5 2.5l-.94 2.06-2.06.94zm10 10l.94 2.06.94-2.06 2.06-.94-2.06-.94-.94-2.06-.94 2.06-2.06.94z\"/><path d=\"M17.41 7.96l-1.37-1.37c-.4-.4-.92-.59-1.43-.59-.52 0-1.04.2-1.43.59L10.3 9.45l-7.72 7.72c-.78.78-.78 2.05 0 2.83L4 21.41c.39.39.9.59 1.41.59.51 0 1.02-.2 1.41-.59l7.78-7.78 2.81-2.81c.8-.78.8-2.07 0-2.86zM5.41 20L4 18.59l7.72-7.72 1.47 1.35L5.41 20z\"/>\n",
              "  </svg>\n",
              "      </button>\n",
              "      \n",
              "  <style>\n",
              "    .colab-df-container {\n",
              "      display:flex;\n",
              "      flex-wrap:wrap;\n",
              "      gap: 12px;\n",
              "    }\n",
              "\n",
              "    .colab-df-convert {\n",
              "      background-color: #E8F0FE;\n",
              "      border: none;\n",
              "      border-radius: 50%;\n",
              "      cursor: pointer;\n",
              "      display: none;\n",
              "      fill: #1967D2;\n",
              "      height: 32px;\n",
              "      padding: 0 0 0 0;\n",
              "      width: 32px;\n",
              "    }\n",
              "\n",
              "    .colab-df-convert:hover {\n",
              "      background-color: #E2EBFA;\n",
              "      box-shadow: 0px 1px 2px rgba(60, 64, 67, 0.3), 0px 1px 3px 1px rgba(60, 64, 67, 0.15);\n",
              "      fill: #174EA6;\n",
              "    }\n",
              "\n",
              "    [theme=dark] .colab-df-convert {\n",
              "      background-color: #3B4455;\n",
              "      fill: #D2E3FC;\n",
              "    }\n",
              "\n",
              "    [theme=dark] .colab-df-convert:hover {\n",
              "      background-color: #434B5C;\n",
              "      box-shadow: 0px 1px 3px 1px rgba(0, 0, 0, 0.15);\n",
              "      filter: drop-shadow(0px 1px 2px rgba(0, 0, 0, 0.3));\n",
              "      fill: #FFFFFF;\n",
              "    }\n",
              "  </style>\n",
              "\n",
              "      <script>\n",
              "        const buttonEl =\n",
              "          document.querySelector('#df-994fec31-da2d-424e-a2ef-9924001d1f43 button.colab-df-convert');\n",
              "        buttonEl.style.display =\n",
              "          google.colab.kernel.accessAllowed ? 'block' : 'none';\n",
              "\n",
              "        async function convertToInteractive(key) {\n",
              "          const element = document.querySelector('#df-994fec31-da2d-424e-a2ef-9924001d1f43');\n",
              "          const dataTable =\n",
              "            await google.colab.kernel.invokeFunction('convertToInteractive',\n",
              "                                                     [key], {});\n",
              "          if (!dataTable) return;\n",
              "\n",
              "          const docLinkHtml = 'Like what you see? Visit the ' +\n",
              "            '<a target=\"_blank\" href=https://colab.research.google.com/notebooks/data_table.ipynb>data table notebook</a>'\n",
              "            + ' to learn more about interactive tables.';\n",
              "          element.innerHTML = '';\n",
              "          dataTable['output_type'] = 'display_data';\n",
              "          await google.colab.output.renderOutput(dataTable, element);\n",
              "          const docLink = document.createElement('div');\n",
              "          docLink.innerHTML = docLinkHtml;\n",
              "          element.appendChild(docLink);\n",
              "        }\n",
              "      </script>\n",
              "    </div>\n",
              "  </div>\n",
              "  "
            ]
          },
          "metadata": {},
          "execution_count": 20
        }
      ]
    },
    {
      "cell_type": "code",
      "source": [
        "# Applying dummy encoding for Categorical Data\n",
        "categorical_data = ['HomePlanet', 'Destination', 'Side']\n",
        "\n",
        "def encodefeatureData(feature, data):\n",
        "  dummyData = pd.get_dummies(data[feature], prefix=feature)\n",
        "  featureData = pd.concat([data, dummyData], axis=1)\n",
        "  featureData.drop(feature, axis=1, inplace=True)\n",
        "  return featureData\n",
        "\n",
        "for value in categorical_data:\n",
        "   data = encodefeatureData(value, data)\n"
      ],
      "metadata": {
        "id": "HAZyAaNS7D8c"
      },
      "execution_count": null,
      "outputs": []
    },
    {
      "cell_type": "markdown",
      "source": [
        "Boolean categorical features such as \"CryoSleep\" and \"VIP\" features tends to be of boolean type, hence label encoder is performed. Encoding converts values to either 0,1."
      ],
      "metadata": {
        "id": "n_FLCtJcSk2F"
      }
    },
    {
      "cell_type": "code",
      "source": [
        "categorical_bool = ['CryoSleep','VIP']\n",
        "\n",
        "# label encoder object\n",
        "encode = LabelEncoder()\n",
        "\n",
        "# Assign labels of 0 and 1 to values in column\n",
        "for feature in categorical_bool:\n",
        "    data[feature] = encode.fit_transform(data[feature])\n",
        "\n",
        "print(\"Dataset head to ensure features are transforemd: \")\n",
        "data.head()"
      ],
      "metadata": {
        "colab": {
          "base_uri": "https://localhost:8080/",
          "height": 305
        },
        "id": "8NOggRLKRC4-",
        "outputId": "08e53c2a-806c-47a2-a920-75f02edf698a"
      },
      "execution_count": null,
      "outputs": [
        {
          "output_type": "stream",
          "name": "stdout",
          "text": [
            "Dataset head to ensure features are transforemd: \n"
          ]
        },
        {
          "output_type": "execute_result",
          "data": {
            "text/plain": [
              "   CryoSleep       Age  VIP  RoomService  FoodCourt  ShoppingMall       Spa  \\\n",
              "0          0  0.718454    0    -0.347750  -0.288506     -0.299739 -0.275970   \n",
              "1          0 -0.335201    0    -0.177696  -0.282761     -0.256896  0.215177   \n",
              "2          0  2.053084    1    -0.280664   1.994205     -0.299739  5.731407   \n",
              "3          0  0.296992    0    -0.347750   0.530487      0.336049  2.702222   \n",
              "4          0 -0.897150    0     0.124970  -0.243822     -0.040968  0.229491   \n",
              "\n",
              "     VRDeck  HomePlanet_Earth  HomePlanet_Europa  HomePlanet_Mars  \\\n",
              "0 -0.262708                 0                  1                0   \n",
              "1 -0.225030                 1                  0                0   \n",
              "2 -0.220749                 0                  1                0   \n",
              "3 -0.097440                 0                  1                0   \n",
              "4 -0.260996                 1                  0                0   \n",
              "\n",
              "   Destination_55 Cancri e  Destination_PSO J318.5-22  \\\n",
              "0                        0                          0   \n",
              "1                        0                          0   \n",
              "2                        0                          0   \n",
              "3                        0                          0   \n",
              "4                        0                          0   \n",
              "\n",
              "   Destination_TRAPPIST-1e  Side_P  Side_S  \n",
              "0                        1       1       0  \n",
              "1                        1       0       1  \n",
              "2                        1       0       1  \n",
              "3                        1       0       1  \n",
              "4                        1       0       1  "
            ],
            "text/html": [
              "\n",
              "  <div id=\"df-1c596056-bc7e-4a2d-9a75-95f38f8ca543\">\n",
              "    <div class=\"colab-df-container\">\n",
              "      <div>\n",
              "<style scoped>\n",
              "    .dataframe tbody tr th:only-of-type {\n",
              "        vertical-align: middle;\n",
              "    }\n",
              "\n",
              "    .dataframe tbody tr th {\n",
              "        vertical-align: top;\n",
              "    }\n",
              "\n",
              "    .dataframe thead th {\n",
              "        text-align: right;\n",
              "    }\n",
              "</style>\n",
              "<table border=\"1\" class=\"dataframe\">\n",
              "  <thead>\n",
              "    <tr style=\"text-align: right;\">\n",
              "      <th></th>\n",
              "      <th>CryoSleep</th>\n",
              "      <th>Age</th>\n",
              "      <th>VIP</th>\n",
              "      <th>RoomService</th>\n",
              "      <th>FoodCourt</th>\n",
              "      <th>ShoppingMall</th>\n",
              "      <th>Spa</th>\n",
              "      <th>VRDeck</th>\n",
              "      <th>HomePlanet_Earth</th>\n",
              "      <th>HomePlanet_Europa</th>\n",
              "      <th>HomePlanet_Mars</th>\n",
              "      <th>Destination_55 Cancri e</th>\n",
              "      <th>Destination_PSO J318.5-22</th>\n",
              "      <th>Destination_TRAPPIST-1e</th>\n",
              "      <th>Side_P</th>\n",
              "      <th>Side_S</th>\n",
              "    </tr>\n",
              "  </thead>\n",
              "  <tbody>\n",
              "    <tr>\n",
              "      <th>0</th>\n",
              "      <td>0</td>\n",
              "      <td>0.718454</td>\n",
              "      <td>0</td>\n",
              "      <td>-0.347750</td>\n",
              "      <td>-0.288506</td>\n",
              "      <td>-0.299739</td>\n",
              "      <td>-0.275970</td>\n",
              "      <td>-0.262708</td>\n",
              "      <td>0</td>\n",
              "      <td>1</td>\n",
              "      <td>0</td>\n",
              "      <td>0</td>\n",
              "      <td>0</td>\n",
              "      <td>1</td>\n",
              "      <td>1</td>\n",
              "      <td>0</td>\n",
              "    </tr>\n",
              "    <tr>\n",
              "      <th>1</th>\n",
              "      <td>0</td>\n",
              "      <td>-0.335201</td>\n",
              "      <td>0</td>\n",
              "      <td>-0.177696</td>\n",
              "      <td>-0.282761</td>\n",
              "      <td>-0.256896</td>\n",
              "      <td>0.215177</td>\n",
              "      <td>-0.225030</td>\n",
              "      <td>1</td>\n",
              "      <td>0</td>\n",
              "      <td>0</td>\n",
              "      <td>0</td>\n",
              "      <td>0</td>\n",
              "      <td>1</td>\n",
              "      <td>0</td>\n",
              "      <td>1</td>\n",
              "    </tr>\n",
              "    <tr>\n",
              "      <th>2</th>\n",
              "      <td>0</td>\n",
              "      <td>2.053084</td>\n",
              "      <td>1</td>\n",
              "      <td>-0.280664</td>\n",
              "      <td>1.994205</td>\n",
              "      <td>-0.299739</td>\n",
              "      <td>5.731407</td>\n",
              "      <td>-0.220749</td>\n",
              "      <td>0</td>\n",
              "      <td>1</td>\n",
              "      <td>0</td>\n",
              "      <td>0</td>\n",
              "      <td>0</td>\n",
              "      <td>1</td>\n",
              "      <td>0</td>\n",
              "      <td>1</td>\n",
              "    </tr>\n",
              "    <tr>\n",
              "      <th>3</th>\n",
              "      <td>0</td>\n",
              "      <td>0.296992</td>\n",
              "      <td>0</td>\n",
              "      <td>-0.347750</td>\n",
              "      <td>0.530487</td>\n",
              "      <td>0.336049</td>\n",
              "      <td>2.702222</td>\n",
              "      <td>-0.097440</td>\n",
              "      <td>0</td>\n",
              "      <td>1</td>\n",
              "      <td>0</td>\n",
              "      <td>0</td>\n",
              "      <td>0</td>\n",
              "      <td>1</td>\n",
              "      <td>0</td>\n",
              "      <td>1</td>\n",
              "    </tr>\n",
              "    <tr>\n",
              "      <th>4</th>\n",
              "      <td>0</td>\n",
              "      <td>-0.897150</td>\n",
              "      <td>0</td>\n",
              "      <td>0.124970</td>\n",
              "      <td>-0.243822</td>\n",
              "      <td>-0.040968</td>\n",
              "      <td>0.229491</td>\n",
              "      <td>-0.260996</td>\n",
              "      <td>1</td>\n",
              "      <td>0</td>\n",
              "      <td>0</td>\n",
              "      <td>0</td>\n",
              "      <td>0</td>\n",
              "      <td>1</td>\n",
              "      <td>0</td>\n",
              "      <td>1</td>\n",
              "    </tr>\n",
              "  </tbody>\n",
              "</table>\n",
              "</div>\n",
              "      <button class=\"colab-df-convert\" onclick=\"convertToInteractive('df-1c596056-bc7e-4a2d-9a75-95f38f8ca543')\"\n",
              "              title=\"Convert this dataframe to an interactive table.\"\n",
              "              style=\"display:none;\">\n",
              "        \n",
              "  <svg xmlns=\"http://www.w3.org/2000/svg\" height=\"24px\"viewBox=\"0 0 24 24\"\n",
              "       width=\"24px\">\n",
              "    <path d=\"M0 0h24v24H0V0z\" fill=\"none\"/>\n",
              "    <path d=\"M18.56 5.44l.94 2.06.94-2.06 2.06-.94-2.06-.94-.94-2.06-.94 2.06-2.06.94zm-11 1L8.5 8.5l.94-2.06 2.06-.94-2.06-.94L8.5 2.5l-.94 2.06-2.06.94zm10 10l.94 2.06.94-2.06 2.06-.94-2.06-.94-.94-2.06-.94 2.06-2.06.94z\"/><path d=\"M17.41 7.96l-1.37-1.37c-.4-.4-.92-.59-1.43-.59-.52 0-1.04.2-1.43.59L10.3 9.45l-7.72 7.72c-.78.78-.78 2.05 0 2.83L4 21.41c.39.39.9.59 1.41.59.51 0 1.02-.2 1.41-.59l7.78-7.78 2.81-2.81c.8-.78.8-2.07 0-2.86zM5.41 20L4 18.59l7.72-7.72 1.47 1.35L5.41 20z\"/>\n",
              "  </svg>\n",
              "      </button>\n",
              "      \n",
              "  <style>\n",
              "    .colab-df-container {\n",
              "      display:flex;\n",
              "      flex-wrap:wrap;\n",
              "      gap: 12px;\n",
              "    }\n",
              "\n",
              "    .colab-df-convert {\n",
              "      background-color: #E8F0FE;\n",
              "      border: none;\n",
              "      border-radius: 50%;\n",
              "      cursor: pointer;\n",
              "      display: none;\n",
              "      fill: #1967D2;\n",
              "      height: 32px;\n",
              "      padding: 0 0 0 0;\n",
              "      width: 32px;\n",
              "    }\n",
              "\n",
              "    .colab-df-convert:hover {\n",
              "      background-color: #E2EBFA;\n",
              "      box-shadow: 0px 1px 2px rgba(60, 64, 67, 0.3), 0px 1px 3px 1px rgba(60, 64, 67, 0.15);\n",
              "      fill: #174EA6;\n",
              "    }\n",
              "\n",
              "    [theme=dark] .colab-df-convert {\n",
              "      background-color: #3B4455;\n",
              "      fill: #D2E3FC;\n",
              "    }\n",
              "\n",
              "    [theme=dark] .colab-df-convert:hover {\n",
              "      background-color: #434B5C;\n",
              "      box-shadow: 0px 1px 3px 1px rgba(0, 0, 0, 0.15);\n",
              "      filter: drop-shadow(0px 1px 2px rgba(0, 0, 0, 0.3));\n",
              "      fill: #FFFFFF;\n",
              "    }\n",
              "  </style>\n",
              "\n",
              "      <script>\n",
              "        const buttonEl =\n",
              "          document.querySelector('#df-1c596056-bc7e-4a2d-9a75-95f38f8ca543 button.colab-df-convert');\n",
              "        buttonEl.style.display =\n",
              "          google.colab.kernel.accessAllowed ? 'block' : 'none';\n",
              "\n",
              "        async function convertToInteractive(key) {\n",
              "          const element = document.querySelector('#df-1c596056-bc7e-4a2d-9a75-95f38f8ca543');\n",
              "          const dataTable =\n",
              "            await google.colab.kernel.invokeFunction('convertToInteractive',\n",
              "                                                     [key], {});\n",
              "          if (!dataTable) return;\n",
              "\n",
              "          const docLinkHtml = 'Like what you see? Visit the ' +\n",
              "            '<a target=\"_blank\" href=https://colab.research.google.com/notebooks/data_table.ipynb>data table notebook</a>'\n",
              "            + ' to learn more about interactive tables.';\n",
              "          element.innerHTML = '';\n",
              "          dataTable['output_type'] = 'display_data';\n",
              "          await google.colab.output.renderOutput(dataTable, element);\n",
              "          const docLink = document.createElement('div');\n",
              "          docLink.innerHTML = docLinkHtml;\n",
              "          element.appendChild(docLink);\n",
              "        }\n",
              "      </script>\n",
              "    </div>\n",
              "  </div>\n",
              "  "
            ]
          },
          "metadata": {},
          "execution_count": 22
        }
      ]
    },
    {
      "cell_type": "markdown",
      "source": [
        "### Separation of train and test data"
      ],
      "metadata": {
        "id": "NSDioiew9h3z"
      }
    },
    {
      "cell_type": "code",
      "source": [
        "# Reconvert data to train and test\n",
        "# Separating 8693 instances of train data and 4277 instances of test data\n",
        "\n",
        "train_set = data.iloc[:8693,:]\n",
        "print(\"Train set shape ---> (Rows, Features) : \", train_set.shape)\n",
        "test_set = data.iloc[8693:,:]\n",
        "print(\"Test set shape ---> (Rows, Features) : \", test_set.shape)"
      ],
      "metadata": {
        "colab": {
          "base_uri": "https://localhost:8080/"
        },
        "id": "LwhHMF66DBO9",
        "outputId": "5c332a61-b823-4d6e-8ce2-b5a247e800ce"
      },
      "execution_count": null,
      "outputs": [
        {
          "output_type": "stream",
          "name": "stdout",
          "text": [
            "Train set shape ---> (Rows, Features) :  (8693, 16)\n",
            "Test set shape ---> (Rows, Features) :  (4277, 16)\n"
          ]
        }
      ]
    },
    {
      "cell_type": "code",
      "source": [
        "# Check variable type\n",
        "data.dtypes"
      ],
      "metadata": {
        "colab": {
          "base_uri": "https://localhost:8080/"
        },
        "id": "52_plKF3VoPg",
        "outputId": "b0af94ad-8399-470d-ffa3-aecf51bf138f"
      },
      "execution_count": null,
      "outputs": [
        {
          "output_type": "execute_result",
          "data": {
            "text/plain": [
              "CryoSleep                      int64\n",
              "Age                          float64\n",
              "VIP                            int64\n",
              "RoomService                  float64\n",
              "FoodCourt                    float64\n",
              "ShoppingMall                 float64\n",
              "Spa                          float64\n",
              "VRDeck                       float64\n",
              "HomePlanet_Earth               uint8\n",
              "HomePlanet_Europa              uint8\n",
              "HomePlanet_Mars                uint8\n",
              "Destination_55 Cancri e        uint8\n",
              "Destination_PSO J318.5-22      uint8\n",
              "Destination_TRAPPIST-1e        uint8\n",
              "Side_P                         uint8\n",
              "Side_S                         uint8\n",
              "dtype: object"
            ]
          },
          "metadata": {},
          "execution_count": 24
        }
      ]
    },
    {
      "cell_type": "markdown",
      "source": [
        "## Models"
      ],
      "metadata": {
        "id": "kfxPhC3ArsHH"
      }
    },
    {
      "cell_type": "markdown",
      "source": [
        "We have split train data considering 80% train and 20% test for modelling. There was no obvious reason to select 20% test, just wanted to make sure that we have enough test data to perform analysis on predicted results. Random State is set at number 42 so that at every run the predicted results will be same. Reason for selecting number 42 is just random and it has nothing to do with any logic.\n",
        "\n",
        "As this is a classification prolem, model performance is evaluated using the Receiver Operator Characteristic(ROC) curve. The ROC curve plot is performed using code presented in Logistic_Regression_vs_Naive_Bayes_Discriminant_Analysis_on_Titanic.ipynb file. The area under the curve provides a collection measure of performance across all likely classification thresholds and is used to determine how successfully our model have distinguished between classes.\n",
        "\n",
        "In classification, accuracy can be an inaccurate metric for unbalanced data sets. In this case, although target feature seems to be balanced but to be assured that the model performed well, we performed other metrics such as Precision, and Recall for model evaluation.\n"
      ],
      "metadata": {
        "id": "iNY53JIXlDYv"
      }
    },
    {
      "cell_type": "code",
      "source": [
        "# Split the dataset into training and testing sets, with a ratio of 80% and 20% respectively.\n",
        "X_train, X_test, y_train, y_test = train_test_split(train_set,\n",
        "                                                    Y_train_data,\n",
        "                                                    test_size = 0.2,\n",
        "                                                    random_state = 42)"
      ],
      "metadata": {
        "id": "0thr-_8iZfD2"
      },
      "execution_count": null,
      "outputs": []
    },
    {
      "cell_type": "code",
      "source": [
        "# The ROC curve plot\n",
        "def plot_ROC_curve(model, Y, preds, color):\n",
        "  fpr, tpr, threshold = metrics.roc_curve(Y, preds, pos_label=1)\n",
        "  roc_auc = metrics.auc(fpr, tpr)\n",
        "\n",
        "  plt.title(model.__class__.__name__ + ' ROC')\n",
        "  plt.plot(fpr, tpr, color, label = 'AUC = %0.2f' % roc_auc)\n",
        "  plt.legend(loc = 'lower right')\n",
        "  plt.plot([0, 1], [0, 1], \"r--\")\n",
        "  plt.ylabel('True Positive Rate')\n",
        "  plt.xlabel('False Positive Rate')\n",
        "  plt.show()"
      ],
      "metadata": {
        "id": "o7O6vU_AkrSS"
      },
      "execution_count": null,
      "outputs": []
    },
    {
      "cell_type": "code",
      "source": [
        "# Plot Confusion Matrix\n",
        "def show_confusion_matrix(conf_matrix):\n",
        "    plt.figure(figsize=(3, 3))\n",
        "    sns.set(font_scale=0.9)\n",
        "    sns.heatmap(conf_matrix, annot=True, cbar=False, fmt='.0f',\n",
        "                xticklabels=('Actual 0s', 'Actual 1s'),\n",
        "                yticklabels=('Predicted 0s', 'Predicted 1s'))\n",
        "    sns.set(font_scale=1)\n",
        "\n",
        "# Model Report for Binary Classification\n",
        "def getModelReport(model, X_train, y_train, X_test, y_test):\n",
        "    \"\"\"\n",
        "    Returns: 1: prints Accuracy, precision, recall\n",
        "             2: a plot of the confusion matrix\n",
        "\n",
        "    \"\"\"\n",
        "    preds = model.predict(X_test)\n",
        "    accuracy = accuracy_score(preds, y_test)\n",
        "    precision = precision_score(preds, y_test)\n",
        "    recall = recall_score(preds, y_test)\n",
        "\n",
        "    # Confusion Matrix\n",
        "    conf_matrix = confusion_matrix(preds, y_test)\n",
        "\n",
        "    # Model Class\n",
        "    model_class = model.__class__.__name__\n",
        "\n",
        "    print('*'*30)\n",
        "    print('{}'.format(model_class).rjust(20, ' '))\n",
        "    print('*'*30)\n",
        "    print(f'Accuracy: {accuracy} \\nPrecision: {precision} \\nRecall: {recall} \\n')\n",
        "    print('*'*30)\n",
        "\n",
        "    show_confusion_matrix(conf_matrix)\n",
        "    plt.title('Confusion matrix of {}'.format(model_class))\n",
        "    plt.show()\n",
        "\n",
        "    return precision, recall"
      ],
      "metadata": {
        "id": "8qBklbFFracP"
      },
      "execution_count": null,
      "outputs": []
    },
    {
      "cell_type": "markdown",
      "source": [
        "### Linear Discriminant Analysis"
      ],
      "metadata": {
        "id": "LzazdTasrux3"
      }
    },
    {
      "cell_type": "markdown",
      "source": [
        "#### Sequential Forward Feature Selection for LDA"
      ],
      "metadata": {
        "id": "WhhZ90hV2aoQ"
      }
    },
    {
      "cell_type": "markdown",
      "source": [
        "The forward feature selection for Linear Discriminant Analysis is carried out using Sequential forward Feature Selection library wrapper from scikit-learn. It was found that 8 features were selected after performing wrapper method and scoring was kept as accuracy and cross-validation to 5 while selection of features. The train and test data for LDA were separated based on the feature selected by forward feature selection."
      ],
      "metadata": {
        "id": "dJN4A8TrdRNe"
      }
    },
    {
      "cell_type": "code",
      "source": [
        "# Object for LDA Sequential forward feature selection\n",
        "lda_sfs = SFS(LinearDiscriminantAnalysis(), direction='forward',\n",
        "            scoring='accuracy',\n",
        "            cv=5)\n",
        "\n",
        "# Fit LDA Sequential forward Feature Selection on training data\n",
        "lda_features = lda_sfs.fit(X_train, y_train)"
      ],
      "metadata": {
        "id": "EERNRXa_dqJv"
      },
      "execution_count": null,
      "outputs": []
    },
    {
      "cell_type": "code",
      "source": [
        "# Get indices of features selected for LDA\n",
        "lda_feature_indices = lda_features.get_support(indices = True)\n",
        "X_train_lda = X_train.iloc[ : , lda_feature_indices]\n",
        "X_test_lda = X_test.iloc[ : , lda_feature_indices]\n",
        "\n",
        "lda_feature_cols = X_train_lda.columns\n",
        "print(f'Features selected for LDA: {lda_feature_cols}')\n",
        "test_lda = test_set.iloc[ : , lda_feature_indices]\n"
      ],
      "metadata": {
        "colab": {
          "base_uri": "https://localhost:8080/"
        },
        "id": "Krp7K-oHefTu",
        "outputId": "da6b2879-c747-476e-8e82-38119abe1bde"
      },
      "execution_count": null,
      "outputs": [
        {
          "output_type": "stream",
          "name": "stdout",
          "text": [
            "Features selected for LDA: Index(['CryoSleep', 'RoomService', 'FoodCourt', 'ShoppingMall', 'Spa',\n",
            "       'VRDeck', 'HomePlanet_Europa', 'Destination_TRAPPIST-1e'],\n",
            "      dtype='object')\n"
          ]
        }
      ]
    },
    {
      "cell_type": "markdown",
      "source": [
        "#### Model Build and Evaluation"
      ],
      "metadata": {
        "id": "0kBbVhEf6NlA"
      }
    },
    {
      "cell_type": "markdown",
      "source": [
        "The model build process is done with Linear Discriminant Analysis. The features generated by forward feature selection for LDA are used. X_train_lda and X_test_lda dataset are generated considering only the features selected by wrapper. The ROC curve plot was drawn for LDA which is used to determine how successfully our LDA model have distinguished between classes and gave area under the curve(AUC) score of 0.84."
      ],
      "metadata": {
        "id": "dLCks46ehfcO"
      }
    },
    {
      "cell_type": "code",
      "source": [
        "# LDA Model Fitting\n",
        "model_LDA = LinearDiscriminantAnalysis().fit(X_train_lda, y_train)"
      ],
      "metadata": {
        "id": "ARs7IzYgfgJ9"
      },
      "execution_count": null,
      "outputs": []
    },
    {
      "cell_type": "code",
      "source": [
        "# Predict probability on test data for LDA\n",
        "pred_prob_LDA = model_LDA.predict_proba(X_test_lda)\n",
        "auc_score_LDA = roc_auc_score(y_test, pred_prob_LDA[:,1])\n",
        "print(\"The area under the curve for Linear Discriminant Analysis: \", auc_score_LDA, end=\"\\n\\n\")\n",
        "\n",
        "# plot ROC curve\n",
        "plot_ROC_curve(model_LDA, y_test, pred_prob_LDA[:,1], \"blue\")"
      ],
      "metadata": {
        "colab": {
          "base_uri": "https://localhost:8080/",
          "height": 330
        },
        "id": "Ehy4UC5Lf1oh",
        "outputId": "0fba6574-c380-4be0-ca79-cc3b40840d96"
      },
      "execution_count": null,
      "outputs": [
        {
          "output_type": "stream",
          "name": "stdout",
          "text": [
            "The area under the curve for Linear Discriminant Analysis:  0.8426056738601879\n",
            "\n"
          ]
        },
        {
          "output_type": "display_data",
          "data": {
            "text/plain": [
              "<Figure size 432x288 with 1 Axes>"
            ],
            "image/png": "[encoded data removed]"
          },
          "metadata": {
            "needs_background": "light"
          }
        }
      ]
    },
    {
      "cell_type": "code",
      "source": [
        "# Performance Metrics for LDA\n",
        "precision_LDA, recall_LDA = getModelReport(model_LDA, X_train_lda, y_train, X_test_lda, y_test)"
      ],
      "metadata": {
        "id": "8kxiXwf80g_v",
        "colab": {
          "base_uri": "https://localhost:8080/",
          "height": 368
        },
        "outputId": "a04b3a63-83bb-4375-918d-26ec24c55941"
      },
      "execution_count": null,
      "outputs": [
        {
          "output_type": "stream",
          "name": "stdout",
          "text": [
            "******************************\n",
            "LinearDiscriminantAnalysis\n",
            "******************************\n",
            "Accuracy: 0.7596319723979299 \n",
            "Precision: 0.7004555808656037 \n",
            "Recall: 0.7987012987012987 \n",
            "\n",
            "******************************\n"
          ]
        },
        {
          "output_type": "display_data",
          "data": {
            "text/plain": [
              "<Figure size 216x216 with 1 Axes>"
            ],
            "image/png": "[encoded data removed]"
          },
          "metadata": {
            "needs_background": "light"
          }
        }
      ]
    },
    {
      "cell_type": "markdown",
      "source": [
        "The confusion matrix is drawn for Linear Discriminant Analysis. The matrix is 2 rows and 2 columns. Columns denote Actual values and rows denote predicted values on target feature.\n",
        "\n",
        "- Accuracy: The model predicted that 76% passengers transported to alternate dimension.\n",
        "\n",
        "Different Performance metrics used for classification:\n",
        "\n",
        "- Precision: 70% of the cases that were accurately predicted actually came true.\n",
        "\n",
        "- Recall: A recall of 0.79 means that every item from class True was labelled as belonging to class True\n"
      ],
      "metadata": {
        "id": "jpQCTzSiNP1_"
      }
    },
    {
      "cell_type": "markdown",
      "source": [
        "#### Prediction on final test set for LDA"
      ],
      "metadata": {
        "id": "5EQRwp-E0VRh"
      }
    },
    {
      "cell_type": "code",
      "source": [
        "# Predict labels on test dataset for kaggle\n",
        "pred_LDA = model_LDA.predict(test_lda)"
      ],
      "metadata": {
        "id": "I6ivdhcPfpaW"
      },
      "execution_count": null,
      "outputs": []
    },
    {
      "cell_type": "code",
      "source": [
        "# Prepare .csv file according to kaggle evaluation\n",
        "final_lda = pd.DataFrame()\n",
        "final_lda['PassengerId'] = id\n",
        "final_lda['Transported'] = pred_LDA\n",
        "final_lda.to_csv('submission_lda.csv', index=False)"
      ],
      "metadata": {
        "id": "dFZ3QYo8fsCX"
      },
      "execution_count": null,
      "outputs": []
    },
    {
      "cell_type": "markdown",
      "source": [
        "Kaggle Submission Score for LDA\n",
        "![image.png](data:image/png;base64,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)"
      ],
      "metadata": {
        "id": "ixlNna9x1deI"
      }
    },
    {
      "cell_type": "markdown",
      "source": [
        "### Naive Bayes Classifier"
      ],
      "metadata": {
        "id": "usOpWv1Hryz3"
      }
    },
    {
      "cell_type": "markdown",
      "source": [
        "#### Sequential Forward Feature Selection for Naive Bayes"
      ],
      "metadata": {
        "id": "qnVJXLlb2yln"
      }
    },
    {
      "cell_type": "markdown",
      "source": [
        "The forward feature selection for Gaussian Naive Bayes Classifier is carried out using Sequential forward Feature Selection library wrapper from sklearn. It was found that 8 features were selected after performing wrapper method with Gaussian Naive Bayes and scoring was kept as accuracy and and cross-validation to 5 while selection of features. The train and test data for Gaussian Naive Bayes were separated based on the feature selected by forward feature selection."
      ],
      "metadata": {
        "id": "51sDU4bP2br_"
      }
    },
    {
      "cell_type": "code",
      "source": [
        "# Object for NB Sequential forward feature selection\n",
        "nb_sfs = SFS(GaussianNB(), direction='forward',\n",
        "            scoring='accuracy',\n",
        "            cv=5)\n",
        "\n",
        "# Fit NB Sequential forward Feature Selection on training data\n",
        "nb_features = nb_sfs.fit(X_train, y_train)"
      ],
      "metadata": {
        "id": "GbWIOZSv2jDE"
      },
      "execution_count": null,
      "outputs": []
    },
    {
      "cell_type": "code",
      "source": [
        "# Get indices of features selected for NB\n",
        "nb_feature_indices = nb_features.get_support(indices = True)\n",
        "X_train_nb = X_train.iloc[ : , nb_feature_indices]\n",
        "X_test_nb = X_test.iloc[ : , nb_feature_indices]\n",
        "\n",
        "nb_feature_cols = X_train_nb.columns\n",
        "print(f'Features selected for Gaussian NB: {nb_feature_cols}')\n",
        "test_nb = test_set.iloc[ : , nb_feature_indices]"
      ],
      "metadata": {
        "colab": {
          "base_uri": "https://localhost:8080/"
        },
        "id": "mjD5AYG02jPW",
        "outputId": "a84bdd51-a39f-41e0-dea4-3de3dcb80a7e"
      },
      "execution_count": null,
      "outputs": [
        {
          "output_type": "stream",
          "name": "stdout",
          "text": [
            "Features selected for Gaussian NB: Index(['CryoSleep', 'Age', 'RoomService', 'FoodCourt', 'ShoppingMall',\n",
            "       'HomePlanet_Mars', 'Destination_PSO J318.5-22', 'Side_P'],\n",
            "      dtype='object')\n"
          ]
        }
      ]
    },
    {
      "cell_type": "markdown",
      "source": [
        "#### Model Build"
      ],
      "metadata": {
        "id": "-2LrLecP6ad4"
      }
    },
    {
      "cell_type": "markdown",
      "source": [
        "The model build process is done with Gaussian Naive Bayes Classifier. The features generated by forward feature selection for Gaussian NB are used. X_train_nb and X_test_nb dataset are generated considering only the features selected by wrapper and are used for fitting and prediction. The ROC curve plot was drawn for Gaussian Naive Bayes which is used to determine how successfully our Gaussian NB model have distinguished between classes and gave area under the curve(AUC) score of 0.80."
      ],
      "metadata": {
        "id": "LBmLbxzh9s6I"
      }
    },
    {
      "cell_type": "code",
      "source": [
        "# Gaussian Naive Bayes Model Fitting\n",
        "model_NB = GaussianNB().fit(X_train_nb, y_train)"
      ],
      "metadata": {
        "id": "JiS8Z9ef4AHX"
      },
      "execution_count": null,
      "outputs": []
    },
    {
      "cell_type": "code",
      "source": [
        "pred_prob_NB = model_NB.predict_proba(X_test_nb)\n",
        "auc_score_NB = roc_auc_score(y_test, pred_prob_NB[:,1])\n",
        "print(\"The area under the curve for Gaussian NB: \", auc_score_NB, end=\"\\n\\n\")\n",
        "plot_ROC_curve(model_NB, y_test, pred_prob_NB[:,1], \"orange\")"
      ],
      "metadata": {
        "colab": {
          "base_uri": "https://localhost:8080/",
          "height": 336
        },
        "id": "q9F8ybbAheCv",
        "outputId": "dbc03f8d-f01c-4b09-cbdd-c56123646735"
      },
      "execution_count": null,
      "outputs": [
        {
          "output_type": "stream",
          "name": "stdout",
          "text": [
            "The area under the curve for Gaussian NB:  0.797254609383061\n",
            "\n"
          ]
        },
        {
          "output_type": "display_data",
          "data": {
            "text/plain": [
              "<Figure size 432x288 with 1 Axes>"
            ],
            "image/png": "[encoded data removed]"
          },
          "metadata": {}
        }
      ]
    },
    {
      "cell_type": "code",
      "source": [
        "# Performance Metrics for Gaussian Naive Bayes\n",
        "precision_NB, recall_NB = getModelReport(model_NB, X_train_nb, y_train, X_test_nb, y_test)"
      ],
      "metadata": {
        "colab": {
          "base_uri": "https://localhost:8080/",
          "height": 368
        },
        "id": "8xNY71s64Hn3",
        "outputId": "af9c4915-5810-41ab-e3c8-6160d4c23a8f"
      },
      "execution_count": null,
      "outputs": [
        {
          "output_type": "stream",
          "name": "stdout",
          "text": [
            "******************************\n",
            "          GaussianNB\n",
            "******************************\n",
            "Accuracy: 0.7441058079355952 \n",
            "Precision: 0.7357630979498861 \n",
            "Recall: 0.7520372526193247 \n",
            "\n",
            "******************************\n"
          ]
        },
        {
          "output_type": "display_data",
          "data": {
            "text/plain": [
              "<Figure size 216x216 with 1 Axes>"
            ],
            "image/png": "[encoded data removed]"
          },
          "metadata": {}
        }
      ]
    },
    {
      "cell_type": "markdown",
      "source": [
        "The confusion matrix is drawn for Gaussian Naive Bayes Classifier. The matrix is 2 rows and 2 columns. Columns denote Actual values and rows denote predicted values on target feature.\n",
        "\n",
        "- Accuracy: The model predicted that 74% passengers transported to alternate dimension.\n",
        "\n",
        "Different Performance metrics used for classification:\n",
        "\n",
        "- Precision: 73% of the cases that were accurately predicted actually came true.\n",
        "\n",
        "- Recall: A recall of 0.75 means that every item from class True was labelled as belonging to class True"
      ],
      "metadata": {
        "id": "xodD7ArnaHCc"
      }
    },
    {
      "cell_type": "markdown",
      "source": [
        "#### Prediction on final test set for Naive Bayes Classifier"
      ],
      "metadata": {
        "id": "vc6Xu8fj6clZ"
      }
    },
    {
      "cell_type": "code",
      "source": [
        "#predict labels on test dataset for kaggle\n",
        "pred_NB = model_NB.predict(test_nb)"
      ],
      "metadata": {
        "id": "qaCBfUet6E85"
      },
      "execution_count": null,
      "outputs": []
    },
    {
      "cell_type": "code",
      "source": [
        "# Prepare .csv file according to kaggle evaluation\n",
        "final_nb = pd.DataFrame()\n",
        "final_nb['PassengerId'] = id\n",
        "final_nb['Transported'] = pred_NB\n",
        "final_nb.to_csv('submission_nb.csv', index=False)"
      ],
      "metadata": {
        "id": "KMeVg0Mf6M_3"
      },
      "execution_count": null,
      "outputs": []
    },
    {
      "cell_type": "markdown",
      "source": [
        "Kaggle Submission Score for Gaussian NB\n",
        "![image.png](data:image/png;base64,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)"
      ],
      "metadata": {
        "id": "46bLufcj6YqQ"
      }
    },
    {
      "cell_type": "markdown",
      "source": [
        "### Logistic Regression"
      ],
      "metadata": {
        "id": "1Cre40NMr1Yp"
      }
    },
    {
      "cell_type": "markdown",
      "source": [
        "#### Sequential Forward Feature Selection for LR"
      ],
      "metadata": {
        "id": "hAY-eiD-6tx_"
      }
    },
    {
      "cell_type": "markdown",
      "source": [
        "The forward feature selection for Logistic Regression is carried out using Sequential forward Feature Selection library wrapper from sklearn. It was found that 8 features were selected after performing wrapper method and scoring was kept as accuracy and and cross-validation to 5  while selection of features. The train and test data for LR were separated based on the feature selected by forward feature selection."
      ],
      "metadata": {
        "id": "-Rw_T9c57Ycn"
      }
    },
    {
      "cell_type": "code",
      "source": [
        "# Object for LR Sequential forward feature selection\n",
        "lr_sfs = SFS(LogisticRegression(), direction='forward',\n",
        "            scoring='accuracy',\n",
        "            cv=5)\n",
        "\n",
        "# Fit LR Sequential forward Feature Selection on training data\n",
        "lr_features = lr_sfs.fit(X_train, y_train)"
      ],
      "metadata": {
        "id": "dr18u-eIGuGU"
      },
      "execution_count": null,
      "outputs": []
    },
    {
      "cell_type": "code",
      "source": [
        "# Get indices of features selected for LR\n",
        "lr_feature_indices = lr_features.get_support(indices = True)\n",
        "X_train_lr = X_train.iloc[ : , lr_feature_indices]\n",
        "X_test_lr = X_test.iloc[ : , lr_feature_indices]\n",
        "\n",
        "lr_feature_cols = X_train_lr.columns\n",
        "print(f'Features selected for LR: {lr_feature_cols}')\n",
        "test_lr = test_set.iloc[ : , lr_feature_indices]"
      ],
      "metadata": {
        "colab": {
          "base_uri": "https://localhost:8080/"
        },
        "id": "tKmlOz5V7g64",
        "outputId": "0ba519fc-5a61-4ce8-8278-e95e061b3f86"
      },
      "execution_count": null,
      "outputs": [
        {
          "output_type": "stream",
          "name": "stdout",
          "text": [
            "Features selected for LR: Index(['CryoSleep', 'RoomService', 'FoodCourt', 'Spa', 'VRDeck',\n",
            "       'HomePlanet_Europa', 'Destination_PSO J318.5-22', 'Side_P'],\n",
            "      dtype='object')\n"
          ]
        }
      ]
    },
    {
      "cell_type": "markdown",
      "source": [
        "#### Model Build"
      ],
      "metadata": {
        "id": "Lw0vHx0M6x2f"
      }
    },
    {
      "cell_type": "markdown",
      "source": [
        "The model build process is done with Logistic Regression Classifier. The features generated by forward feature selection for Logistic Regression are used. X_train_lr and X_test_lr dataset are generated considering only the features selected by wrapper and are used for fitting and prediction. The ROC curve plot was drawn for LR which is used to determine how successfully our LR model have distinguished between classes and gave area under the curve(AUC) score of 0.86."
      ],
      "metadata": {
        "id": "BFsDvRGX99uQ"
      }
    },
    {
      "cell_type": "code",
      "source": [
        "# LR Model Fitting\n",
        "model_LR = LogisticRegression().fit(X_train_lr, y_train)"
      ],
      "metadata": {
        "id": "F-z-HLOt8heE"
      },
      "execution_count": null,
      "outputs": []
    },
    {
      "cell_type": "code",
      "source": [
        "pred_prob_LR = model_LR.predict_proba(X_test_lr)\n",
        "auc_score_LR = roc_auc_score(y_test, pred_prob_LR[:,1])\n",
        "print(\"The area under the curve for Logistic Regression: \", auc_score_LR, end=\"\\n\\n\")\n",
        "plot_ROC_curve(model_LR, y_test, pred_prob_LR[:,1], \"black\")"
      ],
      "metadata": {
        "colab": {
          "base_uri": "https://localhost:8080/",
          "height": 336
        },
        "id": "O2L0Xe2koqMz",
        "outputId": "50c43fa1-01d7-4001-af21-141cf8aa26ce"
      },
      "execution_count": null,
      "outputs": [
        {
          "output_type": "stream",
          "name": "stdout",
          "text": [
            "The area under the curve for Logistic Regression:  0.8566249712285603\n",
            "\n"
          ]
        },
        {
          "output_type": "display_data",
          "data": {
            "text/plain": [
              "<Figure size 432x288 with 1 Axes>"
            ],
            "image/png": "[encoded data removed]"
          },
          "metadata": {}
        }
      ]
    },
    {
      "cell_type": "code",
      "source": [
        "# Performance Metrics for LR\n",
        "precision_LR, recall_LR = getModelReport(model_LR, X_train_lr, y_train, X_test_lr, y_test)"
      ],
      "metadata": {
        "colab": {
          "base_uri": "https://localhost:8080/",
          "height": 368
        },
        "id": "OyFyVjVy8lbP",
        "outputId": "f934f441-055b-4478-a722-cdd76c9df1f4"
      },
      "execution_count": null,
      "outputs": [
        {
          "output_type": "stream",
          "name": "stdout",
          "text": [
            "******************************\n",
            "  LogisticRegression\n",
            "******************************\n",
            "Accuracy: 0.7734330074755607 \n",
            "Precision: 0.7915717539863326 \n",
            "Recall: 0.7671081677704195 \n",
            "\n",
            "******************************\n"
          ]
        },
        {
          "output_type": "display_data",
          "data": {
            "text/plain": [
              "<Figure size 216x216 with 1 Axes>"
            ],
            "image/png": "[encoded data removed]"
          },
          "metadata": {}
        }
      ]
    },
    {
      "cell_type": "markdown",
      "source": [
        "The confusion matrix is drawn for Logistic Regression. The matrix is 2 rows and 2 columns. Columns denote Actual values and rows denote predicted values on target feature.\n",
        "\n",
        "- Accuracy: The model predicted that 77% passengers transported to alternate dimension.\n",
        "\n",
        "Different Performance metrics used for classification:\n",
        "\n",
        "- Precision: 79% of the cases that were accurately predicted actually came true.\n",
        "\n",
        "- Recall: A recall of 0.76 means that every item from class True from \"Transported\" feature was labelled as belonging to class True"
      ],
      "metadata": {
        "id": "URqCkj-dacNB"
      }
    },
    {
      "cell_type": "markdown",
      "source": [
        "#### Prediction on final test set for LR"
      ],
      "metadata": {
        "id": "f2rfJ1vm6otg"
      }
    },
    {
      "cell_type": "code",
      "source": [
        "# Predict labels on test dataset for kaggle\n",
        "pred_LR = model_LR.predict(test_lr)"
      ],
      "metadata": {
        "id": "29LH_5qQ9Ga3"
      },
      "execution_count": null,
      "outputs": []
    },
    {
      "cell_type": "code",
      "source": [
        "# Prepare .csv file according to kaggle evaluation\n",
        "final_lr = pd.DataFrame()\n",
        "final_lr['PassengerId'] = id\n",
        "final_lr['Transported'] = pred_LR\n",
        "final_lr.to_csv('submission_lr.csv', index=False)"
      ],
      "metadata": {
        "id": "QYtD2iVw9Kzn"
      },
      "execution_count": null,
      "outputs": []
    },
    {
      "cell_type": "markdown",
      "source": [
        "Kaggle Submission for LR\n",
        "![image.png](data:image/png;base64,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)"
      ],
      "metadata": {
        "id": "_lWcXDaD9Mtn"
      }
    },
    {
      "cell_type": "markdown",
      "source": [
        "# IV. Interpretations and Comparison"
      ],
      "metadata": {
        "id": "WRq4xkPd2wWY"
      }
    },
    {
      "cell_type": "markdown",
      "source": [
        "## Number of features"
      ],
      "metadata": {
        "id": "U83_lkKLh3x5"
      }
    },
    {
      "cell_type": "code",
      "source": [
        "# Number of features used for each method\n",
        "feature_dataframe = pd.DataFrame({\n",
        "    model_LDA.__class__.__name__: lda_feature_cols,\n",
        "    model_NB.__class__.__name__: nb_feature_cols,\n",
        "    model_LR.__class__.__name__: lr_feature_cols,\n",
        "})\n",
        "print(\"Table shows features selected for each method after performing Sequential Forward Feature Selection:\")\n",
        "feature_dataframe"
      ],
      "metadata": {
        "colab": {
          "base_uri": "https://localhost:8080/",
          "height": 318
        },
        "id": "494uH-tKBYs4",
        "outputId": "26aa24b2-7503-4f10-8c8e-612b1676aaa5"
      },
      "execution_count": null,
      "outputs": [
        {
          "output_type": "stream",
          "name": "stdout",
          "text": [
            "Table shows features selected for each method after performing Sequential Forward Feature Selection:\n"
          ]
        },
        {
          "output_type": "execute_result",
          "data": {
            "text/plain": [
              "  LinearDiscriminantAnalysis                 GaussianNB  \\\n",
              "0                  CryoSleep                  CryoSleep   \n",
              "1                RoomService                        Age   \n",
              "2                  FoodCourt                RoomService   \n",
              "3               ShoppingMall                  FoodCourt   \n",
              "4                        Spa               ShoppingMall   \n",
              "5                     VRDeck            HomePlanet_Mars   \n",
              "6          HomePlanet_Europa  Destination_PSO J318.5-22   \n",
              "7    Destination_TRAPPIST-1e                     Side_P   \n",
              "\n",
              "          LogisticRegression  \n",
              "0                  CryoSleep  \n",
              "1                RoomService  \n",
              "2                  FoodCourt  \n",
              "3                        Spa  \n",
              "4                     VRDeck  \n",
              "5          HomePlanet_Europa  \n",
              "6  Destination_PSO J318.5-22  \n",
              "7                     Side_P  "
            ],
            "text/html": [
              "\n",
              "  <div id=\"df-837ed979-d2ac-4ca4-a67d-394cfbb96ff3\">\n",
              "    <div class=\"colab-df-container\">\n",
              "      <div>\n",
              "<style scoped>\n",
              "    .dataframe tbody tr th:only-of-type {\n",
              "        vertical-align: middle;\n",
              "    }\n",
              "\n",
              "    .dataframe tbody tr th {\n",
              "        vertical-align: top;\n",
              "    }\n",
              "\n",
              "    .dataframe thead th {\n",
              "        text-align: right;\n",
              "    }\n",
              "</style>\n",
              "<table border=\"1\" class=\"dataframe\">\n",
              "  <thead>\n",
              "    <tr style=\"text-align: right;\">\n",
              "      <th></th>\n",
              "      <th>LinearDiscriminantAnalysis</th>\n",
              "      <th>GaussianNB</th>\n",
              "      <th>LogisticRegression</th>\n",
              "    </tr>\n",
              "  </thead>\n",
              "  <tbody>\n",
              "    <tr>\n",
              "      <th>0</th>\n",
              "      <td>CryoSleep</td>\n",
              "      <td>CryoSleep</td>\n",
              "      <td>CryoSleep</td>\n",
              "    </tr>\n",
              "    <tr>\n",
              "      <th>1</th>\n",
              "      <td>RoomService</td>\n",
              "      <td>Age</td>\n",
              "      <td>RoomService</td>\n",
              "    </tr>\n",
              "    <tr>\n",
              "      <th>2</th>\n",
              "      <td>FoodCourt</td>\n",
              "      <td>RoomService</td>\n",
              "      <td>FoodCourt</td>\n",
              "    </tr>\n",
              "    <tr>\n",
              "      <th>3</th>\n",
              "      <td>ShoppingMall</td>\n",
              "      <td>FoodCourt</td>\n",
              "      <td>Spa</td>\n",
              "    </tr>\n",
              "    <tr>\n",
              "      <th>4</th>\n",
              "      <td>Spa</td>\n",
              "      <td>ShoppingMall</td>\n",
              "      <td>VRDeck</td>\n",
              "    </tr>\n",
              "    <tr>\n",
              "      <th>5</th>\n",
              "      <td>VRDeck</td>\n",
              "      <td>HomePlanet_Mars</td>\n",
              "      <td>HomePlanet_Europa</td>\n",
              "    </tr>\n",
              "    <tr>\n",
              "      <th>6</th>\n",
              "      <td>HomePlanet_Europa</td>\n",
              "      <td>Destination_PSO J318.5-22</td>\n",
              "      <td>Destination_PSO J318.5-22</td>\n",
              "    </tr>\n",
              "    <tr>\n",
              "      <th>7</th>\n",
              "      <td>Destination_TRAPPIST-1e</td>\n",
              "      <td>Side_P</td>\n",
              "      <td>Side_P</td>\n",
              "    </tr>\n",
              "  </tbody>\n",
              "</table>\n",
              "</div>\n",
              "      <button class=\"colab-df-convert\" onclick=\"convertToInteractive('df-837ed979-d2ac-4ca4-a67d-394cfbb96ff3')\"\n",
              "              title=\"Convert this dataframe to an interactive table.\"\n",
              "              style=\"display:none;\">\n",
              "        \n",
              "  <svg xmlns=\"http://www.w3.org/2000/svg\" height=\"24px\"viewBox=\"0 0 24 24\"\n",
              "       width=\"24px\">\n",
              "    <path d=\"M0 0h24v24H0V0z\" fill=\"none\"/>\n",
              "    <path d=\"M18.56 5.44l.94 2.06.94-2.06 2.06-.94-2.06-.94-.94-2.06-.94 2.06-2.06.94zm-11 1L8.5 8.5l.94-2.06 2.06-.94-2.06-.94L8.5 2.5l-.94 2.06-2.06.94zm10 10l.94 2.06.94-2.06 2.06-.94-2.06-.94-.94-2.06-.94 2.06-2.06.94z\"/><path d=\"M17.41 7.96l-1.37-1.37c-.4-.4-.92-.59-1.43-.59-.52 0-1.04.2-1.43.59L10.3 9.45l-7.72 7.72c-.78.78-.78 2.05 0 2.83L4 21.41c.39.39.9.59 1.41.59.51 0 1.02-.2 1.41-.59l7.78-7.78 2.81-2.81c.8-.78.8-2.07 0-2.86zM5.41 20L4 18.59l7.72-7.72 1.47 1.35L5.41 20z\"/>\n",
              "  </svg>\n",
              "      </button>\n",
              "      \n",
              "  <style>\n",
              "    .colab-df-container {\n",
              "      display:flex;\n",
              "      flex-wrap:wrap;\n",
              "      gap: 12px;\n",
              "    }\n",
              "\n",
              "    .colab-df-convert {\n",
              "      background-color: #E8F0FE;\n",
              "      border: none;\n",
              "      border-radius: 50%;\n",
              "      cursor: pointer;\n",
              "      display: none;\n",
              "      fill: #1967D2;\n",
              "      height: 32px;\n",
              "      padding: 0 0 0 0;\n",
              "      width: 32px;\n",
              "    }\n",
              "\n",
              "    .colab-df-convert:hover {\n",
              "      background-color: #E2EBFA;\n",
              "      box-shadow: 0px 1px 2px rgba(60, 64, 67, 0.3), 0px 1px 3px 1px rgba(60, 64, 67, 0.15);\n",
              "      fill: #174EA6;\n",
              "    }\n",
              "\n",
              "    [theme=dark] .colab-df-convert {\n",
              "      background-color: #3B4455;\n",
              "      fill: #D2E3FC;\n",
              "    }\n",
              "\n",
              "    [theme=dark] .colab-df-convert:hover {\n",
              "      background-color: #434B5C;\n",
              "      box-shadow: 0px 1px 3px 1px rgba(0, 0, 0, 0.15);\n",
              "      filter: drop-shadow(0px 1px 2px rgba(0, 0, 0, 0.3));\n",
              "      fill: #FFFFFF;\n",
              "    }\n",
              "  </style>\n",
              "\n",
              "      <script>\n",
              "        const buttonEl =\n",
              "          document.querySelector('#df-837ed979-d2ac-4ca4-a67d-394cfbb96ff3 button.colab-df-convert');\n",
              "        buttonEl.style.display =\n",
              "          google.colab.kernel.accessAllowed ? 'block' : 'none';\n",
              "\n",
              "        async function convertToInteractive(key) {\n",
              "          const element = document.querySelector('#df-837ed979-d2ac-4ca4-a67d-394cfbb96ff3');\n",
              "          const dataTable =\n",
              "            await google.colab.kernel.invokeFunction('convertToInteractive',\n",
              "                                                     [key], {});\n",
              "          if (!dataTable) return;\n",
              "\n",
              "          const docLinkHtml = 'Like what you see? Visit the ' +\n",
              "            '<a target=\"_blank\" href=https://colab.research.google.com/notebooks/data_table.ipynb>data table notebook</a>'\n",
              "            + ' to learn more about interactive tables.';\n",
              "          element.innerHTML = '';\n",
              "          dataTable['output_type'] = 'display_data';\n",
              "          await google.colab.output.renderOutput(dataTable, element);\n",
              "          const docLink = document.createElement('div');\n",
              "          docLink.innerHTML = docLinkHtml;\n",
              "          element.appendChild(docLink);\n",
              "        }\n",
              "      </script>\n",
              "    </div>\n",
              "  </div>\n",
              "  "
            ]
          },
          "metadata": {},
          "execution_count": 49
        }
      ]
    },
    {
      "cell_type": "markdown",
      "source": [
        "We discovered that 8 features are chosen for each of the three ways after doing Sequential Forward Feature Selection on each method to determine the best predictors for model fitting.\n",
        "Out of those 8, three features—\"CryoSleep,\" \"RoomService,\" and \"FoodCourt\"—are shared by all three approaches. In both linear discriminant analysis and logistic regression, there are 6 features that are shared. We also discovered that the Gaussian Naive Bayes and the Logistic Regression share 5 features. The Gaussian Naive Bayes and the Linear Discriminant Analysis appear to have four features.\n",
        "```\n",
        "Expense features - RoomService, FoodCourt, ShoppingMall, Spa, VRDeck\n",
        "```\n",
        "Three of the five expense features are selected in the Gaussian Naive Bayes approach, four are selected in the Logistic Regression method, and all five are selected in the LDA method. This suggests that the expense features play an important role in each method to help predict whether a passenger was transported.\n"
      ],
      "metadata": {
        "id": "9ICc6D-gdwrS"
      }
    },
    {
      "cell_type": "markdown",
      "source": [
        "## Model coefficients"
      ],
      "metadata": {
        "id": "NsqKnqLRhvv6"
      }
    },
    {
      "cell_type": "code",
      "source": [
        "# Method for Model Feature Coefficients\n",
        "def model_coeffients(model, feature_cols, X_train):\n",
        "  coeff = pd.Series(index=feature_cols, data=model.coef_[0])\n",
        "  arrange_coeff = coeff.sort_values(ascending=False).index.tolist()\n",
        "  print(f'----- Coefficients in {model.__class__.__name__} -------')\n",
        "  print(coeff[arrange_coeff])"
      ],
      "metadata": {
        "id": "h2VpmrXEa1tw"
      },
      "execution_count": null,
      "outputs": []
    },
    {
      "cell_type": "markdown",
      "source": [
        "The coefficients in Linear Discriminant Analysis shows that CryoSleep(2.42) and HomePlanet_Europa(1.25) tend to have larger impact on the LDA model, whereas RoomService, VRDeck, and Spa tend to show a less impact. . The possibility of being transported remains high for passenger who spends in FoodCourt(0.43) compared to a passenger who spends in Shopping Mall(0.31). It also can be said that a unit increase in Spa(-0.60) expenditure results in a greater reduction in possibility of being transported to alternate dimension compared to a unit increase in ShoopingMall(0.31)."
      ],
      "metadata": {
        "id": "HGT9yXO6q_tJ"
      }
    },
    {
      "cell_type": "code",
      "source": [
        "# Model Feature Coefficients for LDA\n",
        "model_coeffients(model_LDA, lda_feature_cols, X_train_lda)"
      ],
      "metadata": {
        "colab": {
          "base_uri": "https://localhost:8080/"
        },
        "id": "0DNr_AVgpgYx",
        "outputId": "d4293215-9c7a-4eb1-d838-5332fdc15a79"
      },
      "execution_count": null,
      "outputs": [
        {
          "output_type": "stream",
          "name": "stdout",
          "text": [
            "----- Coefficients in LinearDiscriminantAnalysis -------\n",
            "CryoSleep                  2.427292\n",
            "HomePlanet_Europa          1.258297\n",
            "FoodCourt                  0.439947\n",
            "ShoppingMall               0.310629\n",
            "Destination_TRAPPIST-1e   -0.149833\n",
            "RoomService               -0.395099\n",
            "VRDeck                    -0.558716\n",
            "Spa                       -0.606838\n",
            "dtype: float64\n"
          ]
        }
      ]
    },
    {
      "cell_type": "markdown",
      "source": [
        "The coefficients in Logistic Regression model shows that HomePlanet_Europa(2.01) and CryoSleep(1.2) tend to have larger impact on the LR model which is similar to LDA model. Also, RoomService, VRDeck and Spa tend to show less impact on the LR model. The chance of being transported to alternate dimension remains high if we spend more in FoodCourt(0.76) compared to other luxury amenities such as Spa(-2.25), VRDeck(-2.16) and RoomService(-0.86). It can be said that a unit increase in Spa expenditure results in a greater reduction in possibility of being transported to alternate dimension compared to a unit increase in FoodCourt."
      ],
      "metadata": {
        "id": "TPmAf1Yjss1Y"
      }
    },
    {
      "cell_type": "code",
      "source": [
        "# Model Feature Coefficients for LR\n",
        "model_coeffients(model_LR, lr_feature_cols, X_train_lr)"
      ],
      "metadata": {
        "colab": {
          "base_uri": "https://localhost:8080/"
        },
        "id": "OlVJiy9voZfy",
        "outputId": "e2bc1499-e98f-49fc-9ace-027c2e4d4f0f"
      },
      "execution_count": null,
      "outputs": [
        {
          "output_type": "stream",
          "name": "stdout",
          "text": [
            "----- Coefficients in LogisticRegression -------\n",
            "HomePlanet_Europa            2.017389\n",
            "CryoSleep                    1.200000\n",
            "FoodCourt                    0.763610\n",
            "Destination_PSO J318.5-22   -0.235862\n",
            "Side_P                      -0.538850\n",
            "RoomService                 -0.869323\n",
            "VRDeck                      -2.161929\n",
            "Spa                         -2.256527\n",
            "dtype: float64\n"
          ]
        }
      ]
    },
    {
      "cell_type": "markdown",
      "source": [
        "## Classification Performance Metrices"
      ],
      "metadata": {
        "id": "w1cnrERhDp6w"
      }
    },
    {
      "cell_type": "markdown",
      "source": [
        "AUC and Precision scores for the Logistic Regression model are higher than those for the Linear Discriminant Analysis model and the Gaussian Naive Bayes model which clearly shows LR model has performed effective. Although the LDA model had a better Recall score of 0.79, which shows the proportion of real positive cases that LDA model was able to properly anticipate, the LR model showed decent score of 0.76 Recall, which was higher than the Gaussian Naive Bayes model's score of 0.75."
      ],
      "metadata": {
        "id": "LZ4KBygUHlWk"
      }
    },
    {
      "cell_type": "code",
      "source": [
        "# Table showing AUC, precision, recall for all three models\n",
        "feature_d = pd.DataFrame({\n",
        "    \"Metric\": [\"AUC\", \"Precision\", \"Recall\"],\n",
        "    model_LDA.__class__.__name__: [auc_score_LDA, precision_LDA, recall_LDA],\n",
        "    model_NB.__class__.__name__: [auc_score_NB, precision_NB, recall_NB],\n",
        "    model_LR.__class__.__name__: [auc_score_LR, precision_LR, recall_LR],\n",
        "})\n",
        "feature_d"
      ],
      "metadata": {
        "colab": {
          "base_uri": "https://localhost:8080/",
          "height": 143
        },
        "id": "mY9fcG9nDxcp",
        "outputId": "06b931f5-04da-4729-e9b7-7149a999d8f2"
      },
      "execution_count": null,
      "outputs": [
        {
          "output_type": "execute_result",
          "data": {
            "text/plain": [
              "      Metric  LinearDiscriminantAnalysis  GaussianNB  LogisticRegression\n",
              "0        AUC                    0.842606    0.797255            0.856625\n",
              "1  Precision                    0.700456    0.735763            0.791572\n",
              "2     Recall                    0.798701    0.752037            0.767108"
            ],
            "text/html": [
              "\n",
              "  <div id=\"df-830c23b1-aa21-4993-be5f-5c8d239ecb61\">\n",
              "    <div class=\"colab-df-container\">\n",
              "      <div>\n",
              "<style scoped>\n",
              "    .dataframe tbody tr th:only-of-type {\n",
              "        vertical-align: middle;\n",
              "    }\n",
              "\n",
              "    .dataframe tbody tr th {\n",
              "        vertical-align: top;\n",
              "    }\n",
              "\n",
              "    .dataframe thead th {\n",
              "        text-align: right;\n",
              "    }\n",
              "</style>\n",
              "<table border=\"1\" class=\"dataframe\">\n",
              "  <thead>\n",
              "    <tr style=\"text-align: right;\">\n",
              "      <th></th>\n",
              "      <th>Metric</th>\n",
              "      <th>LinearDiscriminantAnalysis</th>\n",
              "      <th>GaussianNB</th>\n",
              "      <th>LogisticRegression</th>\n",
              "    </tr>\n",
              "  </thead>\n",
              "  <tbody>\n",
              "    <tr>\n",
              "      <th>0</th>\n",
              "      <td>AUC</td>\n",
              "      <td>0.842606</td>\n",
              "      <td>0.797255</td>\n",
              "      <td>0.856625</td>\n",
              "    </tr>\n",
              "    <tr>\n",
              "      <th>1</th>\n",
              "      <td>Precision</td>\n",
              "      <td>0.700456</td>\n",
              "      <td>0.735763</td>\n",
              "      <td>0.791572</td>\n",
              "    </tr>\n",
              "    <tr>\n",
              "      <th>2</th>\n",
              "      <td>Recall</td>\n",
              "      <td>0.798701</td>\n",
              "      <td>0.752037</td>\n",
              "      <td>0.767108</td>\n",
              "    </tr>\n",
              "  </tbody>\n",
              "</table>\n",
              "</div>\n",
              "      <button class=\"colab-df-convert\" onclick=\"convertToInteractive('df-830c23b1-aa21-4993-be5f-5c8d239ecb61')\"\n",
              "              title=\"Convert this dataframe to an interactive table.\"\n",
              "              style=\"display:none;\">\n",
              "        \n",
              "  <svg xmlns=\"http://www.w3.org/2000/svg\" height=\"24px\"viewBox=\"0 0 24 24\"\n",
              "       width=\"24px\">\n",
              "    <path d=\"M0 0h24v24H0V0z\" fill=\"none\"/>\n",
              "    <path d=\"M18.56 5.44l.94 2.06.94-2.06 2.06-.94-2.06-.94-.94-2.06-.94 2.06-2.06.94zm-11 1L8.5 8.5l.94-2.06 2.06-.94-2.06-.94L8.5 2.5l-.94 2.06-2.06.94zm10 10l.94 2.06.94-2.06 2.06-.94-2.06-.94-.94-2.06-.94 2.06-2.06.94z\"/><path d=\"M17.41 7.96l-1.37-1.37c-.4-.4-.92-.59-1.43-.59-.52 0-1.04.2-1.43.59L10.3 9.45l-7.72 7.72c-.78.78-.78 2.05 0 2.83L4 21.41c.39.39.9.59 1.41.59.51 0 1.02-.2 1.41-.59l7.78-7.78 2.81-2.81c.8-.78.8-2.07 0-2.86zM5.41 20L4 18.59l7.72-7.72 1.47 1.35L5.41 20z\"/>\n",
              "  </svg>\n",
              "      </button>\n",
              "      \n",
              "  <style>\n",
              "    .colab-df-container {\n",
              "      display:flex;\n",
              "      flex-wrap:wrap;\n",
              "      gap: 12px;\n",
              "    }\n",
              "\n",
              "    .colab-df-convert {\n",
              "      background-color: #E8F0FE;\n",
              "      border: none;\n",
              "      border-radius: 50%;\n",
              "      cursor: pointer;\n",
              "      display: none;\n",
              "      fill: #1967D2;\n",
              "      height: 32px;\n",
              "      padding: 0 0 0 0;\n",
              "      width: 32px;\n",
              "    }\n",
              "\n",
              "    .colab-df-convert:hover {\n",
              "      background-color: #E2EBFA;\n",
              "      box-shadow: 0px 1px 2px rgba(60, 64, 67, 0.3), 0px 1px 3px 1px rgba(60, 64, 67, 0.15);\n",
              "      fill: #174EA6;\n",
              "    }\n",
              "\n",
              "    [theme=dark] .colab-df-convert {\n",
              "      background-color: #3B4455;\n",
              "      fill: #D2E3FC;\n",
              "    }\n",
              "\n",
              "    [theme=dark] .colab-df-convert:hover {\n",
              "      background-color: #434B5C;\n",
              "      box-shadow: 0px 1px 3px 1px rgba(0, 0, 0, 0.15);\n",
              "      filter: drop-shadow(0px 1px 2px rgba(0, 0, 0, 0.3));\n",
              "      fill: #FFFFFF;\n",
              "    }\n",
              "  </style>\n",
              "\n",
              "      <script>\n",
              "        const buttonEl =\n",
              "          document.querySelector('#df-830c23b1-aa21-4993-be5f-5c8d239ecb61 button.colab-df-convert');\n",
              "        buttonEl.style.display =\n",
              "          google.colab.kernel.accessAllowed ? 'block' : 'none';\n",
              "\n",
              "        async function convertToInteractive(key) {\n",
              "          const element = document.querySelector('#df-830c23b1-aa21-4993-be5f-5c8d239ecb61');\n",
              "          const dataTable =\n",
              "            await google.colab.kernel.invokeFunction('convertToInteractive',\n",
              "                                                     [key], {});\n",
              "          if (!dataTable) return;\n",
              "\n",
              "          const docLinkHtml = 'Like what you see? Visit the ' +\n",
              "            '<a target=\"_blank\" href=https://colab.research.google.com/notebooks/data_table.ipynb>data table notebook</a>'\n",
              "            + ' to learn more about interactive tables.';\n",
              "          element.innerHTML = '';\n",
              "          dataTable['output_type'] = 'display_data';\n",
              "          await google.colab.output.renderOutput(dataTable, element);\n",
              "          const docLink = document.createElement('div');\n",
              "          docLink.innerHTML = docLinkHtml;\n",
              "          element.appendChild(docLink);\n",
              "        }\n",
              "      </script>\n",
              "    </div>\n",
              "  </div>\n",
              "  "
            ]
          },
          "metadata": {},
          "execution_count": 53
        }
      ]
    },
    {
      "cell_type": "markdown",
      "source": [
        "## Conclusion\n"
      ],
      "metadata": {
        "id": "JQxQJJ5Mh0mw"
      }
    },
    {
      "cell_type": "markdown",
      "source": [
        "\n",
        "With a score of 0.78512 on Kaggle, the Logistic Regression model appears to have outperformed the Linear Discriminant Analysis and Gaussian Naive Bayes models for binary classification. LR model has proved effective due to the fact that it doesn't make any assumptions while distribution of independent variables. The LDA model also has done better with score of 0.76128 as compared to Gaussian Naive Bayes. Although, maybe we think that further analysis can be done using backward feature selection to check if the score for each model can be improved."
      ],
      "metadata": {
        "id": "OuZNXQs2Hm9l"
      }
    },
    {
      "cell_type": "markdown",
      "source": [
        "# V. References"
      ],
      "metadata": {
        "id": "dgrFj68_2zjo"
      }
    },
    {
      "cell_type": "markdown",
      "source": [
        "- Sequential Feature Selector: https://scikit-learn.org/stable/modules/generated/sklearn.feature_selection.SequentialFeatureSelector.html\n",
        "\n",
        "- Linear Discriminant Analysis: https://www.analyticsvidhya.com/blog/2021/08/a-brief-introduction-to-linear-discriminant-analysis/\n",
        "\n",
        "- Gaussian Naive Bayes: https://iq.opengenus.org/gaussian-naive-bayes/\n",
        "\n",
        "- Logistic Regression: https://towardsdatascience.com/logistic-regression-detailed-overview-46c4da4303bc\n",
        "\n",
        "- Train Test Split: https://towardsdatascience.com/train-test-split-and-cross-validation-in-python-80b61beca4b6\n",
        "\n",
        "- ROC Curve and AUC: https://developers.google.com/machine-learning/crash-course/classification/roc-and-auc#:~:text=AUC%20\n",
        "\n",
        "- Precison and Recall: https://en.wikipedia.org/wiki/Precision_and_recall#:~:text=In%20a%20classification%20task%2C%20the,false%20positives%2C%20which%20are%20items\n",
        "\n",
        "- Classification Performance: https://towardsdatascience.com/8-metrics-to-measure-classification-performance-984d9d7fd7aa"
      ],
      "metadata": {
        "id": "D5zRNbcoEv38"
      }
    }
  ]
}